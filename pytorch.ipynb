{
 "cells": [
  {
   "cell_type": "markdown",
   "metadata": {},
   "source": [
    "# Pytorch Tutorial"
   ]
  },
  {
   "cell_type": "markdown",
   "metadata": {},
   "source": [
    "Pytorch is a popular deep learning framework and it's easy to get started."
   ]
  },
  {
   "cell_type": "code",
   "execution_count": 14,
   "metadata": {
    "collapsed": true
   },
   "outputs": [],
   "source": [
    "import torch\n",
    "import torch.nn as nn\n",
    "import torch.nn.functional as F\n",
    "import torch.utils.data as data\n",
    "import torchvision\n",
    "import torchvision.transforms as transforms\n",
    "from tqdm import tqdm\n",
    "import numpy as np\n",
    "\n",
    "BATCH_SIZE = 128\n",
    "NUM_EPOCHS = 10"
   ]
  },
  {
   "cell_type": "markdown",
   "metadata": {},
   "source": [
    "First, we read the mnist data, preprocess them and encapsulate them into dataloader form."
   ]
  },
  {
   "cell_type": "code",
   "execution_count": 15,
   "metadata": {
    "collapsed": true
   },
   "outputs": [],
   "source": [
    "# preprocessing\n",
    "normalize = transforms.Normalize(mean=[.5], std=[.5])\n",
    "transform = transforms.Compose([transforms.ToTensor(), normalize])\n",
    "\n",
    "# download and load the data\n",
    "train_dataset = torchvision.datasets.MNIST(root='./mnist/', train=True, transform=transform, download=True)\n",
    "test_dataset = torchvision.datasets.MNIST(root='./mnist/', train=False, transform=transform, download=False)\n",
    "\n",
    "# encapsulate them into dataloader form\n",
    "train_loader = data.DataLoader(train_dataset, batch_size=BATCH_SIZE, shuffle=True, drop_last=True)\n",
    "test_loader = data.DataLoader(test_dataset, batch_size=BATCH_SIZE, shuffle=False, drop_last=True)"
   ]
  },
  {
   "cell_type": "markdown",
   "metadata": {},
   "source": [
    "Then, we define the model, object function and optimizer that we use to classify."
   ]
  },
  {
   "cell_type": "code",
   "execution_count": 16,
   "metadata": {
    "collapsed": true
   },
   "outputs": [],
   "source": [
    "class SimpleNet(nn.Module):\n",
    "    \n",
    "# TODO:define model\n",
    "    def __init__(self):\n",
    "        super(SimpleNet, self).__init__()\n",
    "        self.conv1 = nn.Conv2d(1, 6, 5)\n",
    "        self.conv2 = nn.Conv2d(6, 16, 5)\n",
    "        self.fc1 = nn.Linear(256, 120) \n",
    "        self.fc2 = nn.Linear(120, 84)\n",
    "        self.fc3 = nn.Linear(84, 10)\n",
    "    \n",
    "    def forward(self, x):\n",
    "        x = F.relu(self.conv1(x))\n",
    "        x = F.max_pool2d(x, 2, 2)\n",
    "        x = F.relu(self.conv2(x))\n",
    "        x = F.max_pool2d(x, 2, 2)\n",
    "        x = x.view(x.shape[0],-1)\n",
    "        x = F.relu(self.fc1(x))\n",
    "        x = F.relu(self.fc2(x))\n",
    "        x = self.fc3(x)\n",
    "        x = F.log_softmax(x, dim=1)\n",
    "        return x\n",
    "\n",
    "    \n",
    "model = SimpleNet()\n",
    "# TODO:define loss function and optimiter\n",
    "criterion = nn.CrossEntropyLoss()\n",
    "optimizer = torch.optim.SGD(model.parameters(), lr=.1, momentum=0.9)"
   ]
  },
  {
   "cell_type": "markdown",
   "metadata": {},
   "source": [
    "Next, we can start to train and evaluate!"
   ]
  },
  {
   "cell_type": "code",
   "execution_count": 17,
   "metadata": {
    "collapsed": true,
    "scrolled": true
   },
   "outputs": [
    {
     "output_type": "stream",
     "name": "stderr",
     "text": [
      "100%|██████████| 468/468 [00:31<00:00, 14.87it/s]\n",
      "  0%|          | 2/468 [00:00<00:25, 18.48it/s]Training accuracy=86.76%.\n",
      "100%|██████████| 468/468 [00:24<00:00, 19.43it/s]\n",
      "  0%|          | 2/468 [00:00<00:34, 13.64it/s]Testing accuracy= 97.06%.\n",
      "100%|██████████| 468/468 [00:33<00:00, 14.07it/s]\n",
      "  0%|          | 2/468 [00:00<00:28, 16.63it/s]Training accuracy=92.03%.\n",
      "100%|██████████| 468/468 [00:24<00:00, 19.42it/s]\n",
      "  0%|          | 2/468 [00:00<00:35, 12.99it/s]Testing accuracy= 97.98%.\n",
      "100%|██████████| 468/468 [00:33<00:00, 13.90it/s]\n",
      "  0%|          | 2/468 [00:00<00:30, 15.48it/s]Training accuracy=94.00%.\n",
      "100%|██████████| 468/468 [00:22<00:00, 20.36it/s]\n",
      "  0%|          | 2/468 [00:00<00:32, 14.52it/s]Testing accuracy= 98.48%.\n",
      "100%|██████████| 468/468 [00:31<00:00, 14.85it/s]\n",
      "  0%|          | 2/468 [00:00<00:27, 16.85it/s]Training accuracy=95.04%.\n",
      "100%|██████████| 468/468 [00:23<00:00, 19.58it/s]\n",
      "  0%|          | 2/468 [00:00<00:33, 13.75it/s]Testing accuracy= 98.27%.\n",
      "100%|██████████| 468/468 [00:34<00:00, 13.59it/s]\n",
      "  0%|          | 2/468 [00:00<00:26, 17.82it/s]Training accuracy=95.73%.\n",
      "100%|██████████| 468/468 [00:24<00:00, 19.39it/s]\n",
      "  0%|          | 2/468 [00:00<00:33, 13.93it/s]Testing accuracy= 98.88%.\n",
      "100%|██████████| 468/468 [00:33<00:00, 13.79it/s]\n",
      "  0%|          | 2/468 [00:00<00:27, 16.96it/s]Training accuracy=96.21%.\n",
      "100%|██████████| 468/468 [00:25<00:00, 18.35it/s]\n",
      "  0%|          | 2/468 [00:00<00:38, 12.23it/s]Testing accuracy= 98.87%.\n",
      "100%|██████████| 468/468 [00:34<00:00, 13.70it/s]\n",
      "  0%|          | 2/468 [00:00<00:26, 17.59it/s]Training accuracy=96.57%.\n",
      "100%|██████████| 468/468 [00:24<00:00, 19.04it/s]\n",
      "  0%|          | 2/468 [00:00<00:35, 13.10it/s]Testing accuracy= 98.56%.\n",
      "100%|██████████| 468/468 [00:34<00:00, 13.58it/s]\n",
      "  0%|          | 2/468 [00:00<00:30, 15.22it/s]Training accuracy=96.85%.\n",
      "100%|██████████| 468/468 [00:24<00:00, 19.09it/s]\n",
      "  0%|          | 2/468 [00:00<00:38, 12.01it/s]Testing accuracy= 99.09%.\n",
      "100%|██████████| 468/468 [00:33<00:00, 13.77it/s]\n",
      "  0%|          | 2/468 [00:00<00:27, 17.10it/s]Training accuracy=97.07%.\n",
      "100%|██████████| 468/468 [00:24<00:00, 19.20it/s]\n",
      "  0%|          | 2/468 [00:00<00:34, 13.32it/s]Testing accuracy= 98.86%.\n",
      "100%|██████████| 468/468 [00:28<00:00, 16.54it/s]\n",
      "  1%|          | 3/468 [00:00<00:16, 27.92it/s]Training accuracy=97.25%.\n",
      "100%|██████████| 468/468 [00:18<00:00, 24.65it/s]Testing accuracy= 99.03%.\n",
      "\n"
     ]
    }
   ],
   "source": [
    "train_acc=[]\n",
    "# train and evaluate\n",
    "for epoch in range(NUM_EPOCHS):\n",
    "    for images, labels in tqdm(train_loader):\n",
    "        # TODO:forward + backward + optimize\n",
    "        predictions = model(images)\n",
    "        loss=criterion(predictions,labels)\n",
    "        optimizer.zero_grad()\n",
    "        loss.backward()\n",
    "        optimizer.step()     \n",
    "        acc=(predictions.argmax(-1)==labels).float().mean().item()\n",
    "        train_acc.append(acc)\n",
    "        Training_accuracy=100*np.mean(train_acc)\n",
    "    print('Training accuracy=%.2f%%.'% Training_accuracy)\n",
    "    test_acc=[]\n",
    "    for images, labels in tqdm(train_loader):\n",
    "        predictions = model(images)     \n",
    "        acc=(predictions.argmax(-1)==labels).float().mean().item()\n",
    "        test_acc.append(acc)\n",
    "        Testing_accuracy=100*np.mean(test_acc)\n",
    "    # TODO:calculate the accuracy using traning and testing dataset\n",
    "    print('Testing accuracy= %.2f%%.'% Testing_accuracy)"
   ]
  },
  {
   "cell_type": "markdown",
   "metadata": {},
   "source": [
    "#### Q5:\n",
    "Please print the training and testing accuracy."
   ]
  }
 ],
 "metadata": {
  "kernelspec": {
   "name": "python383jvsc74a57bd095ab7303ed2746327945aa376054eddca8c4eca362915ff95db932dbe7e7ee41",
   "display_name": "Python 3.8.3 64-bit"
  },
  "language_info": {
   "codemirror_mode": {
    "name": "ipython",
    "version": 3
   },
   "file_extension": ".py",
   "mimetype": "text/x-python",
   "name": "python",
   "nbconvert_exporter": "python",
   "pygments_lexer": "ipython3",
   "version": "3.8.3"
  }
 },
 "nbformat": 4,
 "nbformat_minor": 2
}