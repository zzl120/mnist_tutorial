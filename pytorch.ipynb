{
 "cells": [
  {
   "cell_type": "markdown",
   "metadata": {},
   "source": [
    "# Pytorch Tutorial"
   ]
  },
  {
   "cell_type": "markdown",
   "metadata": {},
   "source": [
    "Pytorch is a popular deep learning framework and it's easy to get started."
   ]
  },
  {
   "cell_type": "code",
   "execution_count": 77,
   "metadata": {
    "collapsed": true
   },
   "outputs": [],
   "source": [
    "import torch\n",
    "import torch.nn as nn\n",
    "import torch.nn.functional as F\n",
    "import torch.utils.data as data\n",
    "import torchvision\n",
    "import torchvision.transforms as transforms\n",
    "from tqdm import tqdm\n",
    "import numpy as np\n",
    "\n",
    "BATCH_SIZE = 128\n",
    "NUM_EPOCHS = 10"
   ]
  },
  {
   "cell_type": "markdown",
   "metadata": {},
   "source": [
    "First, we read the mnist data, preprocess them and encapsulate them into dataloader form."
   ]
  },
  {
   "cell_type": "code",
   "execution_count": 78,
   "metadata": {
    "collapsed": true
   },
   "outputs": [],
   "source": [
    "# preprocessing\n",
    "normalize = transforms.Normalize(mean=[.5], std=[.5])\n",
    "transform = transforms.Compose([transforms.ToTensor(), normalize])\n",
    "\n",
    "# download and load the data\n",
    "train_dataset = torchvision.datasets.MNIST(root='./mnist/', train=True, transform=transform, download=True)\n",
    "test_dataset = torchvision.datasets.MNIST(root='./mnist/', train=False, transform=transform, download=False)\n",
    "\n",
    "# encapsulate them into dataloader form\n",
    "train_loader = data.DataLoader(train_dataset, batch_size=BATCH_SIZE, shuffle=True, drop_last=True)\n",
    "test_loader = data.DataLoader(test_dataset, batch_size=BATCH_SIZE, shuffle=False, drop_last=True)"
   ]
  },
  {
   "cell_type": "markdown",
   "metadata": {},
   "source": [
    "Then, we define the model, object function and optimizer that we use to classify."
   ]
  },
  {
   "cell_type": "code",
   "execution_count": 79,
   "metadata": {
    "collapsed": true
   },
   "outputs": [],
   "source": [
    "class SimpleNet(nn.Module):\n",
    "    \n",
    "# TODO:define model\n",
    "    def __init__(self):\n",
    "        super(SimpleNet, self).__init__()\n",
    "        self.conv1 = nn.Conv2d(1, 6, 5)\n",
    "        self.conv2 = nn.Conv2d(6, 16, 5)\n",
    "        self.fc1 = nn.Linear(256, 120) \n",
    "        self.fc2 = nn.Linear(120, 84)\n",
    "        self.fc3 = nn.Linear(84, 10)\n",
    "    \n",
    "    def forward(self, x):\n",
    "        x = F.relu(self.conv1(x))\n",
    "        x = F.max_pool2d(x, 2, 2)\n",
    "        x = F.relu(self.conv2(x))\n",
    "        x = F.max_pool2d(x, 2, 2)\n",
    "        x = x.view(x.shape[0],-1)\n",
    "        x = F.relu(self.fc1(x))\n",
    "        x = F.relu(self.fc2(x))\n",
    "        x = self.fc3(x)\n",
    "        x = F.log_softmax(x, dim=1)\n",
    "        return x\n",
    "\n",
    "    \n",
    "model = SimpleNet()\n",
    "# TODO:define loss function and optimiter\n",
    "criterion = nn.CrossEntropyLoss()\n",
    "optimizer = torch.optim.SGD(model.parameters(), lr=.1, momentum=0.9)"
   ]
  },
  {
   "cell_type": "markdown",
   "metadata": {},
   "source": [
    "Next, we can start to train and evaluate!"
   ]
  },
  {
   "cell_type": "code",
   "execution_count": 80,
   "metadata": {
    "collapsed": true,
    "scrolled": true
   },
   "outputs": [
    {
     "output_type": "stream",
     "name": "stderr",
     "text": [
      "100%|██████████| 468/468 [00:22<00:00, 21.21it/s]\n",
      "  1%|          | 3/468 [00:00<00:18, 25.49it/s]Training accuracy=0.90%.\n",
      "100%|██████████| 468/468 [00:17<00:00, 26.78it/s]\n",
      "  0%|          | 2/468 [00:00<00:26, 17.28it/s]Testing accuracy= 0.98%.\n",
      "100%|██████████| 468/468 [00:25<00:00, 18.38it/s]\n",
      "  0%|          | 2/468 [00:00<00:23, 19.47it/s]Training accuracy=0.94%.\n",
      "100%|██████████| 468/468 [00:19<00:00, 23.68it/s]\n",
      "  0%|          | 2/468 [00:00<00:33, 14.02it/s]Testing accuracy= 0.98%.\n",
      "100%|██████████| 468/468 [00:28<00:00, 16.66it/s]\n",
      "  1%|          | 3/468 [00:00<00:21, 22.09it/s]Training accuracy=0.95%.\n",
      "100%|██████████| 468/468 [00:19<00:00, 24.40it/s]\n",
      "  0%|          | 2/468 [00:00<00:30, 15.47it/s]Testing accuracy= 0.98%.\n",
      "100%|██████████| 468/468 [00:27<00:00, 16.89it/s]\n",
      "  0%|          | 2/468 [00:00<00:23, 19.77it/s]Training accuracy=0.96%.\n",
      "100%|██████████| 468/468 [00:19<00:00, 23.87it/s]\n",
      "  0%|          | 2/468 [00:00<00:26, 17.59it/s]Testing accuracy= 0.99%.\n",
      "100%|██████████| 468/468 [00:26<00:00, 17.53it/s]\n",
      "  0%|          | 2/468 [00:00<00:33, 14.02it/s]Training accuracy=0.96%.\n",
      "100%|██████████| 468/468 [00:25<00:00, 18.70it/s]\n",
      "  0%|          | 1/468 [00:00<00:47,  9.81it/s]Testing accuracy= 0.99%.\n",
      "100%|██████████| 468/468 [00:33<00:00, 14.01it/s]\n",
      "  0%|          | 2/468 [00:00<00:24, 18.64it/s]Training accuracy=0.97%.\n",
      "100%|██████████| 468/468 [00:21<00:00, 21.90it/s]\n",
      "  0%|          | 2/468 [00:00<00:23, 19.95it/s]Testing accuracy= 0.99%.\n",
      "100%|██████████| 468/468 [00:27<00:00, 16.78it/s]\n",
      "  1%|          | 3/468 [00:00<00:18, 25.00it/s]Training accuracy=0.97%.\n",
      "100%|██████████| 468/468 [00:19<00:00, 23.70it/s]\n",
      "  0%|          | 2/468 [00:00<00:30, 15.08it/s]Testing accuracy= 0.99%.\n",
      "100%|██████████| 468/468 [00:27<00:00, 17.32it/s]\n",
      "  0%|          | 2/468 [00:00<00:28, 16.36it/s]Training accuracy=0.97%.\n",
      "100%|██████████| 468/468 [00:20<00:00, 23.11it/s]\n",
      "  0%|          | 2/468 [00:00<00:23, 19.76it/s]Testing accuracy= 0.99%.\n",
      "100%|██████████| 468/468 [00:28<00:00, 16.47it/s]\n",
      "  1%|          | 3/468 [00:00<00:21, 21.80it/s]Training accuracy=0.98%.\n",
      "100%|██████████| 468/468 [00:21<00:00, 22.22it/s]\n",
      "  0%|          | 2/468 [00:00<00:35, 13.01it/s]Testing accuracy= 0.99%.\n",
      "100%|██████████| 468/468 [00:28<00:00, 16.70it/s]\n",
      "  0%|          | 2/468 [00:00<00:23, 19.77it/s]Training accuracy=0.98%.\n",
      "100%|██████████| 468/468 [00:20<00:00, 23.37it/s]Testing accuracy= 0.99%.\n",
      "\n"
     ]
    }
   ],
   "source": [
    "train_acc=[]\n",
    "# train and evaluate\n",
    "for epoch in range(NUM_EPOCHS):\n",
    "    for images, labels in tqdm(train_loader):\n",
    "        # TODO:forward + backward + optimize\n",
    "        predictions = model(images)\n",
    "        loss=criterion(predictions,labels)\n",
    "        optimizer.zero_grad()\n",
    "        loss.backward()\n",
    "        optimizer.step()     \n",
    "        acc=(predictions.argmax(-1)==labels).float().mean().item()\n",
    "        train_acc.append(acc)\n",
    "    print('Training accuracy=%0.2f%%.'%np.mean(train_acc))\n",
    "    test_acc=[]\n",
    "    for images, labels in tqdm(train_loader):\n",
    "        predictions = model(images)     \n",
    "        acc=(predictions.argmax(-1)==labels).float().mean().item()\n",
    "        test_acc.append(acc)\n",
    "    # TODO:calculate the accuracy using traning and testing dataset\n",
    "    print('Testing accuracy= %0.2f%%.'%np.mean(test_acc))"
   ]
  },
  {
   "cell_type": "markdown",
   "metadata": {},
   "source": [
    "#### Q5:\n",
    "Please print the training and testing accuracy."
   ]
  }
 ],
 "metadata": {
  "kernelspec": {
   "name": "python383jvsc74a57bd095ab7303ed2746327945aa376054eddca8c4eca362915ff95db932dbe7e7ee41",
   "display_name": "Python 3.8.3 64-bit"
  },
  "language_info": {
   "codemirror_mode": {
    "name": "ipython",
    "version": 3
   },
   "file_extension": ".py",
   "mimetype": "text/x-python",
   "name": "python",
   "nbconvert_exporter": "python",
   "pygments_lexer": "ipython3",
   "version": "3.8.3"
  }
 },
 "nbformat": 4,
 "nbformat_minor": 2
}