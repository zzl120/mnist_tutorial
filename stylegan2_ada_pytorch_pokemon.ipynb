{
  "nbformat": 4,
  "nbformat_minor": 0,
  "metadata": {
    "colab": {
      "name": "stylegan2-ada-pytorch-pokemon.ipynb",
      "provenance": [],
      "collapsed_sections": [],
      "toc_visible": true,
      "machine_shape": "hm",
      "include_colab_link": true
    },
    "kernelspec": {
      "name": "python3",
      "display_name": "Python 3"
    },
    "accelerator": "GPU"
  },
  "cells": [
    {
      "cell_type": "markdown",
      "metadata": {
        "id": "view-in-github",
        "colab_type": "text"
      },
      "source": [
        "<a href=\"https://colab.research.google.com/github/zzl120/mnist_tutorial/blob/master/stylegan2_ada_pytorch_pokemon.ipynb\" target=\"_parent\"><img src=\"https://colab.research.google.com/assets/colab-badge.svg\" alt=\"Open In Colab\"/></a>"
      ]
    },
    {
      "cell_type": "markdown",
      "metadata": {
        "id": "Ba1NQzpO9iJ4"
      },
      "source": [
        "# Training Pokemon with StyleGAN\n",
        "\n",
        "In this tutorial, we only want to familiarize ourselves with running StyleGAN (in this case, the newest version) and seeing how training progresses."
      ]
    },
    {
      "cell_type": "markdown",
      "metadata": {
        "id": "oLqHshr2y-MO"
      },
      "source": [
        "## Verify Runtime is GPU\n",
        "\n",
        "In the menu, select Runtime -> Change Runtime Type and verify you are using the **GPU**.  Also select **High-RAM** if you are using Colab Pro.\n",
        "\n",
        "The `nvidia-smi` command below should **NOT** display *\"NVIDIA-SMI has failed because it couldn't communicate with the NVIDIA driver.\"*"
      ]
    },
    {
      "cell_type": "code",
      "metadata": {
        "id": "R7JvPMLWy95f",
        "outputId": "8120a27f-ef7d-4a2b-d4a8-f3984737f7b4",
        "colab": {
          "base_uri": "https://localhost:8080/"
        }
      },
      "source": [
        "!nvidia-smi -L"
      ],
      "execution_count": 39,
      "outputs": [
        {
          "output_type": "stream",
          "name": "stdout",
          "text": [
            "GPU 0: Tesla T4 (UUID: GPU-45037350-b07e-1a7f-3861-c9c38e64277b)\n"
          ]
        }
      ]
    },
    {
      "cell_type": "markdown",
      "metadata": {
        "id": "WUl3Rt0ryX7m"
      },
      "source": [
        "## Mount your Google Drive\n",
        "\n",
        "You will be storing the training models and progress images on your Google Drive.  This is very convenient for viewing progress, and if your Colab notebook is disconnected you will not lose your models."
      ]
    },
    {
      "cell_type": "code",
      "metadata": {
        "id": "Ag2Bb1pPzthT",
        "outputId": "f6d6c7e4-541d-420f-850f-23efa442f67e",
        "colab": {
          "base_uri": "https://localhost:8080/"
        }
      },
      "source": [
        "from google.colab import drive\n",
        "drive.mount('/content/drive')"
      ],
      "execution_count": 40,
      "outputs": [
        {
          "output_type": "stream",
          "name": "stdout",
          "text": [
            "Drive already mounted at /content/drive; to attempt to forcibly remount, call drive.mount(\"/content/drive\", force_remount=True).\n"
          ]
        }
      ]
    },
    {
      "cell_type": "markdown",
      "metadata": {
        "id": "JIHuj2eEy13f"
      },
      "source": [
        "## Install Stylegan2-ada-pytorch Prerequisites"
      ]
    },
    {
      "cell_type": "code",
      "metadata": {
        "id": "A8r0Ca7Hpo5F"
      },
      "source": [
        "import torch"
      ],
      "execution_count": 41,
      "outputs": []
    },
    {
      "cell_type": "markdown",
      "metadata": {
        "id": "2y195-nOz19D"
      },
      "source": [
        "Verify the next command results in \"1\".  If not, go back to the beginning and verify you have a GPU runtime."
      ]
    },
    {
      "cell_type": "code",
      "metadata": {
        "id": "KV07xnKTprut",
        "outputId": "fa859a14-733a-4900-9ccd-2bda7dcc0750",
        "colab": {
          "base_uri": "https://localhost:8080/"
        }
      },
      "source": [
        "torch.cuda.device_count()"
      ],
      "execution_count": 42,
      "outputs": [
        {
          "output_type": "execute_result",
          "data": {
            "text/plain": [
              "1"
            ]
          },
          "metadata": {},
          "execution_count": 42
        }
      ]
    },
    {
      "cell_type": "code",
      "metadata": {
        "id": "6jY44x99pusN"
      },
      "source": [
        "import torchvision"
      ],
      "execution_count": 43,
      "outputs": []
    },
    {
      "cell_type": "code",
      "metadata": {
        "id": "sZhoCdj4pREI",
        "outputId": "033c123d-b231-4025-d748-e0c864cd51f1",
        "colab": {
          "base_uri": "https://localhost:8080/"
        }
      },
      "source": [
        "!pip install click requests tqdm pyspng ninja imageio-ffmpeg==0.4.3"
      ],
      "execution_count": 44,
      "outputs": [
        {
          "output_type": "stream",
          "name": "stdout",
          "text": [
            "Requirement already satisfied: click in /usr/local/lib/python3.7/dist-packages (7.1.2)\n",
            "Requirement already satisfied: requests in /usr/local/lib/python3.7/dist-packages (2.23.0)\n",
            "Requirement already satisfied: tqdm in /usr/local/lib/python3.7/dist-packages (4.62.3)\n",
            "Requirement already satisfied: pyspng in /usr/local/lib/python3.7/dist-packages (0.1.0)\n",
            "Requirement already satisfied: ninja in /usr/local/lib/python3.7/dist-packages (1.10.2.3)\n",
            "Requirement already satisfied: imageio-ffmpeg==0.4.3 in /usr/local/lib/python3.7/dist-packages (0.4.3)\n",
            "Requirement already satisfied: idna<3,>=2.5 in /usr/local/lib/python3.7/dist-packages (from requests) (2.10)\n",
            "Requirement already satisfied: certifi>=2017.4.17 in /usr/local/lib/python3.7/dist-packages (from requests) (2021.10.8)\n",
            "Requirement already satisfied: urllib3!=1.25.0,!=1.25.1,<1.26,>=1.21.1 in /usr/local/lib/python3.7/dist-packages (from requests) (1.24.3)\n",
            "Requirement already satisfied: chardet<4,>=3.0.2 in /usr/local/lib/python3.7/dist-packages (from requests) (3.0.4)\n",
            "Requirement already satisfied: numpy in /usr/local/lib/python3.7/dist-packages (from pyspng) (1.21.5)\n"
          ]
        }
      ]
    },
    {
      "cell_type": "markdown",
      "metadata": {
        "id": "b94le1Kh_v1k"
      },
      "source": [
        "## Get the StyleGAN code"
      ]
    },
    {
      "cell_type": "code",
      "metadata": {
        "id": "najHDP7gMeFy",
        "outputId": "0339b14d-c2f9-44d6-a32a-52da7b1e71f9",
        "colab": {
          "base_uri": "https://localhost:8080/"
        }
      },
      "source": [
        "!git clone https://github.com/NVlabs/stylegan2-ada-pytorch.git"
      ],
      "execution_count": 47,
      "outputs": [
        {
          "output_type": "stream",
          "name": "stdout",
          "text": [
            "fatal: destination path 'stylegan2-ada-pytorch' already exists and is not an empty directory.\n"
          ]
        }
      ]
    },
    {
      "cell_type": "code",
      "metadata": {
        "id": "GCYmJ2Z60WSe",
        "outputId": "2d44454a-8712-4fe2-9f31-fc1a78b932df",
        "colab": {
          "base_uri": "https://localhost:8080/"
        }
      },
      "source": [
        "mkdir /content/stylegan2-ada-pytorch/datasets"
      ],
      "execution_count": 48,
      "outputs": [
        {
          "output_type": "stream",
          "name": "stdout",
          "text": [
            "mkdir: cannot create directory ‘/content/stylegan2-ada-pytorch/datasets’: File exists\n"
          ]
        }
      ]
    },
    {
      "cell_type": "markdown",
      "metadata": {
        "id": "wpk9vGb50lee"
      },
      "source": [
        "## Get Pokemon dataset of images"
      ]
    },
    {
      "cell_type": "code",
      "metadata": {
        "id": "0OscsNQnMiqa",
        "outputId": "f4051761-acd0-41f6-8be1-6e27c071a76e",
        "colab": {
          "base_uri": "https://localhost:8080/"
        }
      },
      "source": [
        "cd /content/stylegan2-ada-pytorch/datasets"
      ],
      "execution_count": 49,
      "outputs": [
        {
          "output_type": "stream",
          "name": "stdout",
          "text": [
            "/content/stylegan2-ada-pytorch/datasets\n"
          ]
        }
      ]
    },
    {
      "cell_type": "code",
      "metadata": {
        "id": "Cyv63QC7xc6l",
        "outputId": "b7653c50-c8cd-40a1-e8d1-84660724d43c",
        "colab": {
          "base_uri": "https://localhost:8080/"
        }
      },
      "source": [
        "cd custom"
      ],
      "execution_count": 51,
      "outputs": [
        {
          "output_type": "stream",
          "name": "stdout",
          "text": [
            "/content/stylegan2-ada-pytorch/datasets/custom\n"
          ]
        }
      ]
    },
    {
      "cell_type": "code",
      "metadata": {
        "id": "TSNoTfiPcrNy",
        "outputId": "c4ae5d95-0bcb-4f51-8b40-56f2704708f4",
        "colab": {
          "base_uri": "https://localhost:8080/"
        }
      },
      "source": [
        "ls"
      ],
      "execution_count": 52,
      "outputs": [
        {
          "output_type": "stream",
          "name": "stdout",
          "text": [
            "00013edfe31d2ce237ee1c6df676e5a3.png  7dbab035c85c2bf8823b88b7f2fd4a5f.png\n",
            "0012b9a4cc7fac34bd2c3ea9f93961a4.png  7dda34887f978f7e9c7f325acfff4057.png\n",
            "002a4dfc2199b01eabb1ffcb58f1ed29.png  7e0ae1403d78c09348b61402ef2046ba.png\n",
            "002d853a7272ce55fb368c69757a3acc.png  7e388e7b042974f79a7b4c2d8e7d7491.png\n",
            "005377f5f29e5585fe5e9cc0788a0ae9.png  7e702791e2db1a687f5cb557b7dbad72.png\n",
            "008d12c81e507113107b1908c09bb9e9.png  7e82d77051df22a7a21e8743b48a64e2.png\n",
            "00db48bce048863477b0d4e88e099ecb.png  7e86869e2e76ba5bce62b4d784723005.png\n",
            "010354469223b993f1d0dbf2a78d765a.png  7e92362f8c01c1c21b0663890209e59a.png\n",
            "010a48affaa193411134fa76eaa2edfe.png  7ea05ce82056e76f5700479d792969b3.png\n",
            "012f4c8e0520c0b712404d7d2b10fde2.png  7ecb145154dcacaabf2f1eca399aef78.png\n",
            "0131becdd42eba726f6f85e67cc42008.png  7f2514baf6503a5e5a09342898fa905c.png\n",
            "013f2fd09843d0a0623ba7d527b56f54.png  7f25e1feda4150a933d9ba63efc01a20.png\n",
            "01515053ab90bee825b4cd719b5825af.png  7f45a020e3a61e55c8ab9ef626c025f4.png\n",
            "0163735960550dd9ba05bc73aeb571db.png  7f90bb5452d26537982287ce8ceacea0.png\n",
            "0164912b9cbf61c2de8c30fd7962855c.png  7fc008ab5a707a02db5c750e101e5389.png\n",
            "017f5ecf1cde5977d062fa1556e7c694.png  7fd97bdb1b5d281d1ac32b1a1eb38a62.png\n",
            "019b07b923a10c58e354643cc20f2e4e.png  7fdebcce2ab5184517ec3da70f109863.png\n",
            "019bc7985848cacb03c61ff78eadc411.png  7fedf9f50a1182df3f82db85cdfc2977.png\n",
            "01a473faa6af15c242a6833bb0b0b5e7.png  7fefa937fd197cfdfd5ad974d6919753.png\n",
            "01cbf4caf7b35652a248f76e70353cdc.png  802820ff92d8c1209c04818a25c82217.png\n",
            "01d63d161f3a7dc74802f04b041e08fe.png  8030b5ca1cb91e23bfce0583b611e935.png\n",
            "01fea94b60866fb9d66c306c9b409858.png  80635b40eae1decbd1cd7bee0cfed3eb.png\n",
            "022f6a2bc29ee99e4430fd836be52370.png  80c83bbf3bf8d5f911516ba8470825d0.png\n",
            "02394549bb268c951a1e4a08bf77567c.png  80f84b1607cace18629cce5ca907290b.png\n",
            "0252baccc001954861f1acfdc76632f5.png  817197c96c30bc1f526a5a9d060d7847.png\n",
            "0253c2deaf94e96ad46b4c25cd2539fa.png  81a1efa739f90b27eaa6560a74e92b57.png\n",
            "027707c0edf06dd6302eae1247c7eec5.png  81a488f235efd72e9dc93b9fd9409ac5.png\n",
            "029c3dd379ebb0b4b117ac4f0f7bc274.png  81a8a0369e1e0a21b3fc8a156953b12c.png\n",
            "02bf964a80bb4fa70fd2640377b825a8.png  81d938f206e6ae249d06703a71b0cc4e.png\n",
            "02d531656463ede77e14a6c3d7f6eb75.png  81f823dc1da1db7b205c222549fa1f8a.png\n",
            "02f7ec37f137b83d93c511006699296f.png  81fa24ee787738a4449e818836e55c73.png\n",
            "02f888bec50257f54902bed0ad92db7a.png  81fb376d912b57b4853c23c32301020e.png\n",
            "033eba7c0224585153e5185edb8ce99c.png  8234e62a2f36dd0e511edd412c4d190b.png\n",
            "03561ce2fe1e7e00e7236a7e177f4af4.png  826177ed46c5ad2898c1b9c4706e4fbc.png\n",
            "035c206aa1579887dac126d5ab4fdc37.png  82638305fe5244d1d56a45503bb6cb41.png\n",
            "03663437c0f30bf3d894100b0e20de7f.png  8271b72dda3f5e754a4a0bd2ff4e46fd.png\n",
            "0380831acb8e2d114c23ccc29eb49b99.png  82750919897eb8ee54ef08e82efe549c.png\n",
            "0401cbbed1a264002d12120b4055e814.png  827f47f4beb5d3702eed832863d9750a.png\n",
            "042f05c53bfbbc16a3ab3229d2dbd6c5.png  828a080c1c5f588b598a0ca28050e378.png\n",
            "044616e219b0ba5ebeae197fb06e0249.png  82b4b66d9badd88c77f61e7f4dfa17a1.png\n",
            "045931867585668c0447ea822fde4341.png  82d21af4becb288f7c2ae144905805a3.png\n",
            "04b87dcec0de84621b800f61c7c590cf.png  82e1495068baa2002bce27f230651c83.png\n",
            "04e0f062bfa41e7e6993ac87b9655692.png  82fd8afd3f1ff3e7f67597fa7c2287d8.png\n",
            "04e49ffb1fff178dc391b9cf7559e04f.png  8331d9392bb613fba8f20eb1aa5ecc22.png\n",
            "050a71d2a3f320c2d0272998813a40ff.png  83785d466925518a033d3ac035929f87.png\n",
            "0528620297daa86a9ca31cb02a7b26c3.png  837d6d21d8be3c12cc343cd1aa6d300c.png\n",
            "052d7e5ae487f4145dd66374803718fc.png  83899a2c677ce43c5c5b46cfb9c50db8.png\n",
            "054ae07b43de68b15ee3e850f1cd6419.png  83901b9ad5545ffe194881885444c7c4.png\n",
            "05511dd5cb9cce77048150c041f106e6.png  83ed85b6f153ae93786a126de031ce0a.png\n",
            "05a5235f3d20be6561202aaedec96d51.png  8402470b166ec4edac756da78c77d2bf.png\n",
            "05fdacf0b5a21636e56114a66c641b39.png  840edd93fccad655e06b4c80d5c9d7d3.png\n",
            "05fddd9a28ae8c8816bc4242cc92471f.png  841de58c0465c5ee151773bd11d2dbee.png\n",
            "06118fec821ac872887a9ebe2291c56d.png  84405978eb8ac7a3ac085716f6991b32.png\n",
            "06331fb534bf5bf40457fc799fa97cc9.png  846d6b07e18a7c8641e0399ad77acb55.png\n",
            "066e028517734c385456326a50d66558.png  8475e10b863ff89e9618f152903620fe.png\n",
            "069c3a2df63f36d938a058ab761c9281.png  847c70febdf10aa3cb5fd8cfae5b94d0.png\n",
            "06f137adef2efac65ba522c16661b099.png  848736a3e37f912c5fe5423f5c579523.png\n",
            "06f597bfd0d8310d33f6a82f543efd37.png  848ae451fcde5d38b703499cd4a924fc.png\n",
            "070d2b858798b9f37b8371711e99f4db.png  84afe414de2e714b348445f097f0115f.png\n",
            "07247d0494657f9aa775e7968ddaff2f.png  84e610e8fad6c816912898cc3b0a6f95.png\n",
            "07272b943aa1bf91f67c464d5a18cbc5.png  85154b940b10c4154ba9b5ab1676ee10.png\n",
            "07332dfad888fd73cd53e1c91499eaaa.png  85247203574bb57105b488707daeb78f.png\n",
            "0743507c02499d9587b33b6447a8f1ca.png  8548b49fab7c6268cd40c0fdd3f70b4c.png\n",
            "074e4a044afb23196c0e9cbee60a2261.png  854ce749d0b1d19ac0426030f92836a7.png\n",
            "0773fd742d34d22c98db17103604716a.png  856bd568fca240e8b9a02eb01d9b0244.png\n",
            "07d97ba3fd9bd777a9dd7a0c03ab2647.png  85763370ed53d3d70c2c4e118f8e57d5.png\n",
            "07deb14ce8717cced729ff84e8d6e82d.png  85e76a16f2c5f6b2c138a6b411c934fc.png\n",
            "0833bb802bfeb289f1786612c7bdd532.png  85ea4f8665aebff8c8d0240191992ff8.png\n",
            "085fb59475ee562e32e58221c5cca004.png  8614b3a66ece0b2585803e8c24158b59.png\n",
            "086fa707b094534d1a1d91e0c426fbd8.png  862a676eb09cd97524b11171131d1524.png\n",
            "0898360704f98119c8d0cd466db300ee.png  86314ee50c262c0c78fb70fd4ac830dd.png\n",
            "089de62b97e4dc5ae330bc34a2ccc0be.png  86316d71427d4ed63f484148b4fe94e8.png\n",
            "08a02d38b87dbba07a15818267b18577.png  864c3853f66c212a25a05d5a19ff71bc.png\n",
            "08a665cd6446a7cb91c6e91e6d6417a8.png  867adb82d8cb8ce16129bb772fe447a5.png\n",
            "08d0531ab7f882e6615e808f59476a5b.png  867d942ce8f2917177e70ea44f096f60.png\n",
            "093ac893e9389d5c53f9872de071f170.png  86bb7edba4ab4b0c751ad3ac728858b8.png\n",
            "09441f25c4ad97719843ea5c06d74ebb.png  86c1a36061d35c2f2320534f88fb03ee.png\n",
            "0965c07096983e6162014cefcf401293.png  86d32cd93dc10a35240ea7a9e378353d.png\n",
            "0984c4c0b6a17e11c445e4ef1d10044c.png  86d52392524b0ba43efafa3d40726d2c.png\n",
            "09972ab5789d8101793e4b712db954f5.png  86e6cb186aeab06d7676ffda50663e8a.png\n",
            "09d45a6d46764b9b63672173de69cb53.png  86f64aef680c6fdf137f3d44c43827cd.png\n",
            "0a38196fdce0e9d037008cbeb8ff4144.png  8719f2d09de6fcbab832b0492b28540f.png\n",
            "0a3a96b41b5e7635a4ea8935fd8c4120.png  8733b46bad9bcd0026126ca58f6ed458.png\n",
            "0a6b756eee1cdbc216e5796222d7fe0c.png  87482e096351f9472d951f5c68bffc13.png\n",
            "0a7bbc8a570432a5bd654c860fa4c19c.png  87790e8c0a7559580a68a0ee178790cd.png\n",
            "0aaa5ee41ff8a324c581b771a6aba9b8.png  877e619ccfaaf97bfb404dda64444619.png\n",
            "0b0b8dac7c449ddd64a892265d5e25a4.png  87a28c6a946308079b3a68e4d6663969.png\n",
            "0b27374464a4b5cbaf2a4e85a04e7bea.png  87bc75afa3572e07f06252709aab1115.png\n",
            "0b519d9af9a783ae54d6d71f3af9483c.png  87d9071c09f0415c50c85b5062b6dfd5.png\n",
            "0bc25a25cdd1ed98a84203e94d8b4b57.png  87ea7792c575329908ece77fd0b41dcb.png\n",
            "0c004bb978ded1395c686b534b1e940b.png  88226e007f3b298d04e782d2060097dc.png\n",
            "0c3ae1931bdcbce3689d93ae3de18c14.png  884e5735a9db908650d8ac21c787b12f.png\n",
            "0c3f0df7b1fe3e69b3b88c47469fa1f6.png  88cd46d491966f87291afc788b086b3e.png\n",
            "0c62158de91a3c037305392e2af6d966.png  88db29c3d35a9c0ea9a91d506abe03ac.png\n",
            "0c74339541d8ef107ec9f062efc4e9ab.png  890013140cb4f8cccc2aed1cf2a6c12a.png\n",
            "0c8f7f3a2001e4f780d0dd3ff6dee904.png  8904dde3b776bb88b69d5757641eaa0f.png\n",
            "0c90bf41db26234a40966feb47d99124.png  89aa6f0a163e765c6a6fa42efaf98204.png\n",
            "0cb151882baf98c21e66f5407e944dfe.png  8a46560f9d81a4686c7838acbd16b214.png\n",
            "0cb39766076ceb553ba2ad99675e88d1.png  8a76717600697fa88656eda86ab07f04.png\n",
            "0cc25c93e28517043d88546bd29ec802.png  8a913a1c5f233dd6f17cc356aa322aa2.png\n",
            "0cd646a523761c65ff89d2da27a4238c.png  8b18f7bef3f14d1be2324f2d3bbab033.png\n",
            "0cf1c95ca4af2f8e025a821729ab7896.png  8b1dc32ab0675cf0b33136af37f0e1d0.png\n",
            "0d241e6c06cfa604d837ad008450c774.png  8b3dc9d6e0747ca4911f2c3e2b823a7b.png\n",
            "0d52d8c5c105976bdada50b5b34dc363.png  8b45fa5d9ef367884781cc32968e8d4f.png\n",
            "0d84428c6b10366bd6ceceb5babb62c5.png  8b49660d0971d4bfb2fa9f21ce0c3582.png\n",
            "0daaf64aac336ff63ce8df262bb57751.png  8b88492db3f18516f0cd38180d17a439.png\n",
            "0df0459e7f78e63106109ab6b63dd9eb.png  8bb78501c317f67fe4dbdd48f6153d16.png\n",
            "0df1b83555da2dd52b44883faf4ae7b6.png  8c4cafbf403df1c4e0be5c62a09e4bbf.png\n",
            "0e077ad27c284778aeb60fd2a9d2676f.png  8c6956336accf58e11c5add2d6f7fa86.png\n",
            "0e343eb74be444e8f0ae046be873c3b3.png  8c7a40d14a0c03dca7e1a5efb7bfac1f.png\n",
            "0e373560a074d8d59d9a7df94a23025e.png  8c8644de643102c125fb5da91ebd7ee5.png\n",
            "0e6847ec4ee457122679bfdac317a39d.png  8c8ff59c2e8994f51a139e661b238baf.png\n",
            "0e78101b08780ed96865d18698ede4ae.png  8c9441f18be1bd2b0ac2d91dbaa152fe.png\n",
            "0ed78505d56d37f10eac0973b9d9896f.png  8ca44fcadcefee97b870feb3760eba35.png\n",
            "0eec9efef8eb40365fd6ea076e9058a2.png  8d0f6cf1f6959bc3d3901ad9fc82ea63.png\n",
            "0f1097301f7b4f17845c087a68f529b4.png  8d1f0c3cc1097d2158bee29a1190e993.png\n",
            "0f42ef249dd84a12b682597800874037.png  8d30da71439423f439b91ece56ac10f0.png\n",
            "0f662a5bd324efebc0a22735983e8f42.png  8d66c0bda3cea93fa90a4ecbfdd9a8ef.png\n",
            "0fb0c608caab693627a416b6454c85c7.png  8d717f5f83e9a5de0cdf228422ec5cb0.png\n",
            "0fc506222791c8eda82d244cf00554f7.png  8daa2af1f5acc7620e2c9bb06ceb2c8c.png\n",
            "0fdeaa814f6648d5456bccfac1c2eef4.png  8db93517df58dd79b4de7a91260b511c.png\n",
            "0fed4bda80f61d98f997534582178509.png  8dbcb61df28f1819ee83ac582d4d1958.png\n",
            "10053300189b7813af09b64489ab3a0c.png  8ddb6ce034a2a11754dfd724bfaf4b1b.png\n",
            "100f59a7e20826e7794b15503e40cae4.png  8df9c03d06022dac7b8ce6841d35bcae.png\n",
            "10119a86c6b2be7a7f20d33c79301a48.png  8e1dacd3b2d474da755f75b57227d4cb.png\n",
            "1085ea640dca610c583f333f0067c2db.png  8e2588f1786065a79e51374bfb92ee19.png\n",
            "109e0c20a1810bdd732b1fd9c8ac5c3a.png  8e5f5e2b5f2c9490d35f13aa7118af5c.png\n",
            "10aed1420266475ebb805e0c7dd7ecd1.png  8e73e3768df0497df31393d55ec90b40.png\n",
            "10c2b18ae3980da129df69c90fbfb476.png  8e82e1ef6a59dbc5457833fb67453910.png\n",
            "10d4f2cb4f488090f3813cb926563cd3.png  8e926275e8a6222432c0495b5741619c.png\n",
            "10f0e974ce72a433329715eb07b303b7.png  8e96d7ea40e944521029fe3f0d330da4.png\n",
            "1101a118008a867d23366daca84d01a2.png  8ec9445d6be4f80e3e1cd1523607ec2c.png\n",
            "1105eb498fbe4535ba36741a033d347f.png  8ed72244b593797663733210650c5632.png\n",
            "1130d162c49caec9c97b55f40b9afad8.png  8f2c91f2e9f54a5d60e1ea9c31567116.png\n",
            "113a0a13ba0f944ee20aa9ea9ca7a5b2.png  8f2de42fb3e07a9ef9062279897fc7bb.png\n",
            "118e88c34f1f22c1053e7c591f13b8e7.png  8f375563ba22887ce437d2976a4e935e.png\n",
            "11d73abf601ca22f279f1221a04884d0.png  8f97683b4f484ad991c433509546c7a4.png\n",
            "11e9fa7b14da40759868423858dc26ba.png  8fb537e0d289d39a22e76d780076b715.png\n",
            "11fd3844a43c66fcacaf9ca19bde0982.png  8fd3733b8cd1e233fa291eb9a5e66047.png\n",
            "121a34039cc249e98b6163c1098a798b.png  8fd74cd517d37e3e25dbf4bc1cee73a8.png\n",
            "121a83f971fa08fd8fe6782619f65f2a.png  8fdaf674b3a5c66a9cb55d1121fb73bf.png\n",
            "122e16232fcefb2142d8030accf5dd34.png  8ffa79b29a12575e6243d5aa03c8c76f.png\n",
            "123740b1c1931a66f74245304ef0f17c.png  901d97a1978d317a2e55b8f9847259fc.png\n",
            "1277240d54eedc0006623b48659c9213.png  906ee144cbeee753653c58053bf9bd68.png\n",
            "128f6ecd3fb3b6efc8a9b29fe86d276c.png  9075774365471ce6426a0f0bab9e9dfc.png\n",
            "12e764dbd69b827bad4bc6f257741ca4.png  90c330fa64c60a4d6131efc582213c9c.png\n",
            "12f5e2bd44a635d23ba2650d54071783.png  90c7cc32a601bdb236b9779c42bd1a7c.png\n",
            "1318725c40bfb2ceb3d917d0acbf60c6.png  90dcb081d5496af33ad2b2ff4bf16e66.png\n",
            "137201677c4c2d4ca2563ba8174cb7a5.png  90f0b83564ce97c86e37efde1acb7004.png\n",
            "1376e15b0efa8edcf7e8a8d5f7c6e299.png  91219ff9eacc55dbf860b1810d22a14c.png\n",
            "138c99a3abd6c34019e52543e7e10467.png  915a0bc9a408185bb833fb41c15fa842.png\n",
            "13a5fb70f93e77361d2a4464b225be92.png  915b363342a8c853e0b26a70f1e511fe.png\n",
            "13d4a720b76fc9d10454d68ab5e6d280.png  917c8ae49ad7871f7f32f053ebd34dc1.png\n",
            "13ffb4f439aa36637e7d8eb74f2daf32.png  91839e2c8f5935f8405baac4faf22c00.png\n",
            "14227102ed1db5cc641c824be55c8712.png  9194243af537645e25a8d088b5977cb1.png\n",
            "146ae489f9edd2ff5c572e85362135f1.png  919cd3ac2448025e4d125c83bebc0229.png\n",
            "14b257fb5110b9268dd21611d43c81bf.png  91babe1bf0f25621f94d17ab083b70be.png\n",
            "14bcf17bfb3c6f6a2930a4fe4840b287.png  91bf1af2fc28c7fac12060e4b6be7561.png\n",
            "14c5e413a542e844b58ab9edbce26e1c.png  91d04877530505ffd7176b5c4db2f634.png\n",
            "155d13e569102cae7a07ead1cc7ccecb.png  921cea063ceb090f99600958b07e9a0d.png\n",
            "1575dc36a3af9f3a31bb01a6b77c62de.png  9231e9b96743b502f45541d9d25ff720.png\n",
            "15836925fe6ebfebb45b536deebe0b17.png  923cd021496a99f5a096c80e63ae0883.png\n",
            "15e87a3ba359018a254b26564a798b4e.png  9250b9f99c8808f472d6f513691b9620.png\n",
            "1636ccf557ae980c73fd31747d0a7978.png  929f2ad39633db209d718cfa5d5a4f05.png\n",
            "167e9b5effebca22d733a55e9d45a9e2.png  92c69915280412b6f369084c8a8d4bb2.png\n",
            "16bf4092a67e34feb990176b244d94b7.png  92ca2ca32ae4c3202556ab8f054897ff.png\n",
            "16cd9f5c312a0a38e31b08a977ede900.png  93104c763f8bac95b5ebf2951767d9ab.png\n",
            "16d2f0788765285c03f4200249dc03d8.png  939cd95d0bb9978535b554f1ae6058f7.png\n",
            "16ed02186def81d00135c8ab5db979b8.png  93b699f1983d8a03ff2f275913960de5.png\n",
            "16f657632fbfc35371e535563b9072ba.png  93db34e52cd311ade33f7fd7f9533ff9.png\n",
            "16ff8f3d0c62de30c02a613ee7fb5267.png  93e7c8a8bed7acc32f1be63bf32bcd0b.png\n",
            "171367383ce41e4b14747d794dd610d4.png  93e91d2ac6ad244b74dc0fb13a28af42.png\n",
            "17600a206af95e108f2696023c7473c4.png  93ee25b58314e18ffc03cb1f4e8454bb.png\n",
            "17643c136d5545989ace29d7daf4f965.png  9418094d0f8384260a3aa6196c240fca.png\n",
            "1765dcdc66f5c6f309fb9fe751f486b7.png  94286a88219d1e324f9e1ddf4e06b755.png\n",
            "17674a6435b00ce496bf52692fbb403e.png  945371ec6c3e7f3bdcc87bbd922298b6.png\n",
            "176be9dadb56de8427964c17173b0754.png  949b02f6e9ff6a62f9b71ae6c3e14865.png\n",
            "17a4719a637e9e49eb041cc8f019cd55.png  949f381704a2e4750a8d65d7e01741dc.png\n",
            "17b4db7becf7b865b49fd00f70623dd2.png  94b7e9837b453d40822847678bb076b3.png\n",
            "17c875b865a1eefd1ad5b032a1550b1a.png  94bb8e0bc89b86bce32cb6b569b89bfa.png\n",
            "181b5005ca57a92b71308f66223232c1.png  94c0097ab8549ebb4263ba3055640f10.png\n",
            "183d18f4afa91f028be7d51afaddb209.png  94c945ed616b49123555b215619d67f9.png\n",
            "18598b84370de2793b4588afcb7f0b5c.png  94e35904c1e2650ea33bf23ab309127a.png\n",
            "1875339a4f5755dd327191ec67777a67.png  94f352637fbd34f962136e892caafc67.png\n",
            "18813ffb0defc02076a492cb2b760355.png  950a3be0e5b9f654d52fe1f21a146ace.png\n",
            "18b584397dbe935bf0df4adc0f9f1333.png  952505dde7c0291f3e7f5568e2647ad2.png\n",
            "18c5bd7fb04f314e24464d6b7e1b7c1c.png  9555d710118e7bbd8b54fa3e372c6f29.png\n",
            "18ca284f8fcb15c5c2749a737249d9d3.png  95620609cfe6ebad029f7abe56beb932.png\n",
            "18ca589a8a74e81cb1dbf297af7de8bb.png  95679220090dbe2b05ead52d77253394.png\n",
            "19332b3cc934406f7ce731bfadb31c9c.png  95c46b794bbcdfc5371f966c4b30528e.png\n",
            "19344ecee6c7577990763cb3802243a9.png  95d53a6a2fbeba3a164761e0d60abdfc.png\n",
            "19560d27db29e9f35a6fb70fdf1ebb49.png  95eefb7973b8d359a912a23991ca111c.png\n",
            "1973124754876f0e2751b5bc5dbdbc0c.png  9607f4985a2294daca232650f5295745.png\n",
            "19a00d7700b250c9f1bc02091001797d.png  960985a5696174886fa34436f1dd603b.png\n",
            "19bb4ca13ecbe12429950777f525277f.png  966f0db41d573bc3c571d34c4f137d73.png\n",
            "1a3130ea9019059a01338a14a5ddbf19.png  969973e0b69736cca75dd328925ad692.png\n",
            "1a5d623936e3711d1a020fbe5a073a99.png  96c12830b4521229107a8160f98d9555.png\n",
            "1aa46fc8728970f6a76a043c570af3e4.png  96c5c87afafd5abb2ed37c6d344801ff.png\n",
            "1ab54d017f0415e91a6ba873128e40ed.png  96c80f80870ebdb9db106d44a1fbc0d0.png\n",
            "1aed7eac9d25c07b8fb42e4207043799.png  96c8ca9f182c92c1db99daf073cfa8f2.png\n",
            "1afadc94fa93f47432219e782b46a9d3.png  96d09836698841158257f5834b65fea0.png\n",
            "1afc522201a93347bd6e7a40be9487a4.png  96d7161b6c4cbdbfba5184b8243500c6.png\n",
            "1b0b2207ee0820f08069dbe6e49e8478.png  96dbc09c29eae8e1b7dda8efd4d695e1.png\n",
            "1b0c970fceacce4ba0ca0410f2a2dd94.png  96dd81b04f551695caebfd3960dc6c59.png\n",
            "1b4350646af41330537961b16221d7fc.png  96ea8a5b0303abb906ef7b5ada2866d9.png\n",
            "1b7c251a465654762853a6bf2173980e.png  96f8e5481eb4dba1c43fe85d77239941.png\n",
            "1b88aa9aaa638da10879da7c1f7bf615.png  97045c9afa6625c4832919ee2d98615e.png\n",
            "1b915c9f1e192fd693ad2caeb5498cce.png  970ffd1f495bb3c295ea65d07a127d19.png\n",
            "1b9757184923e7d9eaeb22e4d631cffd.png  97261e13928d3b744750ceffb4a92e07.png\n",
            "1b9d053c804c4218d33903b9d3536a1f.png  9738e8a789466c045333858585a1bd36.png\n",
            "1bd6c3f1f3b7bc4bd685ce90b7f0bfcd.png  976643aa58cbdb82240796f26546dd42.png\n",
            "1c2be9ceaebb63f9643168316b4b6dcf.png  976835340ac64ed53e238f67ea1a77c8.png\n",
            "1c3617ca731bff7ca25384df031fd8fb.png  9781729d0163520c782ba31a8a751d80.png\n",
            "1c56dacffc4f1b674251e8700db4c297.png  9786f0e17721305266e9e4d54021b073.png\n",
            "1c6fd332232ec838da7e34e7b423b5db.png  979a358a2935bb11e262e775e4418f36.png\n",
            "1c7ba432021333490413232ef50f1d18.png  97cb36afce0f1ac38ae82fd569850f6f.png\n",
            "1c9526edfc26e41c42230136e6f241c5.png  97d3cb9012250d8b35c4fb93871f4c30.png\n",
            "1cba555c3b22d63ab19a0c0ce5b0785a.png  9811a342897aafdbb5cf5d96985395f9.png\n",
            "1cee6b8d417f018748cffcfb8471dc37.png  982a7d038c87226de90a61abc09b7810.png\n",
            "1d2331e87c1d8191824889bf42b283e7.png  982abb1f52c8df49cbe785a41d5df615.png\n",
            "1d2ff466debc1e42f9afcd97e4d1843c.png  984f97b012ecfc619beef9c0599fadc9.png\n",
            "1d46dac8623167fb48fa898c790382a9.png  9860deb02714fdcb83522811e4248790.png\n",
            "1d6506b6c7f4fbe9c28eaafa19dfb7e8.png  98ab36a227993a43b7048e5fe9a49439.png\n",
            "1d820adbbba497483746b2a6d5f6fb2e.png  98db1b3e9bc9e304631e4aff030b6242.png\n",
            "1d999c633eb1997411219a59a36423af.png  98dd47b5b65aedc9422f219f961459f7.png\n",
            "1da258b6258c931b1188e6ef579b2a55.png  98f6090e38aa6f6159c4a9dc6c359807.png\n",
            "1dae09c850e8ef09c7c42319a8561221.png  98f6feb5f66c41bcd77022bfc2dd2ea5.png\n",
            "1df7f3a67c76432a35582f3d08841214.png  993496e189cc38e518dfb0ed496ecfac.png\n",
            "1e006c0dfb5c110b7cefb3d15974fe7d.png  9936dfc758b7138934e7635b7a7d73d5.png\n",
            "1f0611e81390aab9d1295826cc254191.png  9953cdf10f23d38b6d0cbf458b4701f2.png\n",
            "1f1a56a7e5b29a09d478d55898395369.png  99c28b671154d13f9bf76bc494a3e8e9.png\n",
            "1f24c2d2a423cb83d9a53943a957cffe.png  9a0e2386c2153cdd2e3427379facdd32.png\n",
            "1f35dbc5e605535f5af2249163e0306a.png  9a5d789b1b973e4fc7eb7d60d0ed46e6.png\n",
            "1f817305d7653f866d7821ebecbc667b.png  9a73d3dc3453c24263e5f5622de1482b.png\n",
            "1f92906ff5ba8e77ab62e4c06decfa99.png  9a8fac9b18cb8d1af9296528463b0d27.png\n",
            "1f93d2916dece03840b29e8879fd770f.png  9ac722da4828ca840e394edb72fe709f.png\n",
            "1f9c35138d90b2ca43f9f28adc6572fe.png  9ad3292bf4d697aeeef10d4cfe7fcdab.png\n",
            "1f9fe58b359866869ffa04c719ade29d.png  9ae64124664d73132c76bb8a3cefe673.png\n",
            "1fa227b74a24d11468de39e812a150f4.png  9ae880ef2bab619f3555d90f7a3264b9.png\n",
            "1ff0905f315b01a2c9656d6cbf372082.png  9aed5526a71afe0123d3312918a35261.png\n",
            "1ff4776e8e71e1041c68d99080acd57b.png  9b1f9797b4fcb8bed4f15501b9282c3a.png\n",
            "20111d65d35b0d719aa0a69e3d5eb827.png  9b3970de6443cdf3772ac1db1e39e063.png\n",
            "201f947dff95d63e8e75dd5bd2f7a76e.png  9b789d6b785fc0c9029a955b6941914b.png\n",
            "20212be161dbdf4f13950e5bf4a973a6.png  9b88d294407c614d550caf2b54c630eb.png\n",
            "2021b173c4240e003de039ae1bab37b9.png  9b8fa63d27a716d5c9a387eeba70ac14.png\n",
            "20460d4353f6cd81392f7b6211ff6628.png  9ba526b34ba43f08237509ab46a253ea.png\n",
            "205c7df09c2adfced90b49c67e8cb117.png  9bb955c58812c8eefbdb372068888bfc.png\n",
            "205ca66ec67ae861bc629adae7e62709.png  9bdce4bac91d04e0289df06afcc75719.png\n",
            "205dcb95b79868cc6257c28fe8af5c36.png  9be1cd6c5d4bf8aa88b74b5acd67e0b3.png\n",
            "20672e5bce80a2166cb4eafc78aff6e1.png  9c036a9e2181cd59499a16e2762e254c.png\n",
            "20be534f3cd42c3674b676813cbac03a.png  9c0dfb481acde2eea7c9ea5621dfea4f.png\n",
            "20dbd84dc1b360ff4a04ff6eed385805.png  9c127763d577aea5319e3ef781bce1be.png\n",
            "20de527cb4dd4d47276ab3e8f7edfee3.png  9c7a2be1dae1053d2ea252badd93cc43.png\n",
            "210d8d164bdc97487c183e2d68db8cc9.png  9c9165a55736e940740b053b0938f418.png\n",
            "211889b7f5cf93ae27d2e5adf13ffd43.png  9ca44eda9e86284ac1134d80f8a2b049.png\n",
            "2137c68d8db634fbce78be08588c5d6b.png  9cbf8e0aea079bc4d3ccf2200e43b1cd.png\n",
            "21928250bd56834689cd7b5bcac19f5a.png  9cd852f49df5ba4ae0132ce170bab8c2.png\n",
            "21bd1320b60de3d31bd4a80e731b0c4f.png  9cdb82cca6647dac17d2a337903369a0.png\n",
            "21ccd226bc26f324520366118517ede9.png  9d015570b686e0d4c0d87a2e49aaf16d.png\n",
            "21f063850b195aba88ade54192a572ed.png  9d3a2cd1118e615902f08cbda6e1c137.png\n",
            "21f9a99ff1ca1e3f6688e9ecbd11d821.png  9d531d10e5366ccd710cc7b1485ea8ad.png\n",
            "221b39ea5cc72ad96c047c9c00290ea6.png  9d67bb6f368dfd9f9de2b7a48a7647b6.png\n",
            "2228c4fc8a4df717a1fadbe7d7ed7155.png  9d6dbd9ef095ba2d9e4cd9af98b9daea.png\n",
            "223b7e26b9ab5db18e4c37b0ed211070.png  9d915337df5a1da6826f13575a11f8f4.png\n",
            "2243d8f958c7a26a2ce7cc4fed783560.png  9da542e89b19db257b802ddeb9eb9abd.png\n",
            "2264de9566e13ff6178f1ed8311eb2eb.png  9da55e8fff2642169fc73ea5a6bca061.png\n",
            "226a0bb318aafafaccb0b3fb452a73d7.png  9db4855eab49c19fa87960c6cd02229a.png\n",
            "227e1b6b377a74e7aa1f8bd3b7dcd39d.png  9df1f2d11b5f788347b930d3afc02179.png\n",
            "2280457c9bcf4cee91757d71c17c3d10.png  9e01f6fb651128ab1e0400a258b71b1f.png\n",
            "22986c0fececf4c81608641ddea55337.png  9e38fce8548559a91f93001bac10752b.png\n",
            "22a8229701d72db347720b0a081d9b56.png  9e7431ca16effe9fbec6d3d3ff88bcdc.png\n",
            "22c29d567fe9d556e2fb95a10235ae6c.png  9e797963073bae6c1db46e4f2abdc8be.png\n",
            "22d9ef9e0263b97345766ff3c1b2bd67.png  9e7f51a62f34ca0adb133ac03ae4ca6c.png\n",
            "23016673d90dc51ac2dbf0fc8cc912f9.png  9e86f9e2b31d30588123835a1ec013e9.png\n",
            "2325f68c70ee8741c16ef2e8823f57c9.png  9eb25eda98b312207038fd10a4251203.png\n",
            "232847bd37809b1489ae23244e08e863.png  9ee334a42abfdc9a9e50008bf4a761c2.png\n",
            "23666330bc584ddccbeb67a75553927d.png  9ee898cf11f84bbac649f692b8a91eb7.png\n",
            "236b9071c732010bf18abcd70ee1b071.png  9f0080c454321c8a24a79f5d61774a53.png\n",
            "23711487c712a929772c3b7c0e7285a1.png  9f05759725686cdd94f4cfda94aca905.png\n",
            "23a3b132aeda91628cdfe39d524e6704.png  9f2d6c6470460a903aa1c9e164f5bf7b.png\n",
            "23b8f51320f004b9bc41de4c35e6018f.png  9f3f7ab100866ef0418fd5d68aa4218e.png\n",
            "2406bcf07003f2b166f9edad60ae7115.png  9f4ab08034af268056af31e5b8d8ff72.png\n",
            "243befdc690618593326244ac0d53f7b.png  9f8ae590d9e3d70e45fa4282d5278626.png\n",
            "2447a682b57bd388ed2c6ff26ec808b5.png  9f93712a60244edd50f12ac9d91721ab.png\n",
            "246949b8024723be9671b207988cf09f.png  9fcbfa2dd2bad0cd9a4ee62c60b49899.png\n",
            "2482d3cc1d7bd33f9db8991249901c5f.png  9fce548c26097d1e2ac124d021387b79.png\n",
            "249dafd634a047739925fad8abb68ea1.png  a0345eacc0e9aa791be6821080aa25da.png\n",
            "24d16b6af4ab7f5cefa47e317e407c13.png  a0363725607fa778d1a024d4a1e173ff.png\n",
            "24e1040b9e51f8c21141eed44f045258.png  a0487495473c9a6f690038e0a8109e4a.png\n",
            "24e8024626b9354de67c0ee588e90318.png  a0601bcb19c9f3063ea1a8c4ca1404c2.png\n",
            "24fb0b219f53d4b25128b11129937042.png  a0786f82ba756b41bf98d217f9c5ab8c.png\n",
            "2511bceb8a05d942211c3a57426535cf.png  a07d2d71b5c5cf52f5ad5f1623550b4e.png\n",
            "252baa273a7279c3b9326125477eacf6.png  a07d793c8932aadc0353ae6e99855986.png\n",
            "255584902301ff52b422e09cec0440ef.png  a092b57f186d03a23e6682c821d56718.png\n",
            "25662a6de6ed0c47bf2861337edf4b73.png  a09b5da2cedc8581a32e71ddcb3a1b0b.png\n",
            "2575ddd4fe49f0429172cfcefa9ddf22.png  a0c205c2419d33e66cb7067cf6c0fb10.png\n",
            "25cc3dcf5b9039d3b56b9a1aec7029c6.png  a0e44dfc2aeb3bdb014dd89e4736ddce.png\n",
            "2609b983edd39995ce65c30d8489db53.png  a1021cc219128d055403165d2d87f843.png\n",
            "2617ccfcf824be3a951896b194a6a95e.png  a10ab90e615f2c1921b3818441f3d3a5.png\n",
            "2625fd98e0ac7cac8a5b46206aa3b6b2.png  a11f92942e7eaaa7ffaeebd95eff5bb5.png\n",
            "265d8ba4b6452bdbc8aed00b62127978.png  a1c62854e8fb0e25d1c6612c4ade1e15.png\n",
            "2667c0e9b4e9d4170ce089c236c39f93.png  a239b2108e9a4ab1b2022f449dfaa341.png\n",
            "267715845b8aa55a75377c174535fecd.png  a24e8308e0dab53e0aacb0400b9d086a.png\n",
            "2684cde1f048d48f01e63c4ed64d4110.png  a27cdcac461fe8582e952d6555683633.png\n",
            "26b3e9a081c246aec32547780a33cf5a.png  a2cb6023bf62d08416d31761894cd677.png\n",
            "26bafb5fbcc8ff73da3153237e9b0e68.png  a334116f3b056f169977e82e00fb3170.png\n",
            "26d5f1e0464cd4fb2e20c9e11eefb62d.png  a346880a77cf39732a2694a545bd6b06.png\n",
            "274112c0ea45881b82f0a738544941c7.png  a39a452aab2850f8951469b883f1d0d8.png\n",
            "275bf79ff6ee4811200e4d7b8267406a.png  a3abb615476af357d8a2e81b03eccc28.png\n",
            "2783f4e5aeb3c9380ac5a293bfd681e1.png  a3f6eddb84de65591d9eb29ba0ea5602.png\n",
            "278de0cba340e6ab5b7e0d39493b917d.png  a4258c824e74ace324c038f7f1bf5336.png\n",
            "28426ce7129184828e74fb075399eaa3.png  a42e57d45b13aaae430db0bffaef6a81.png\n",
            "28fab6fbe4ce6d267d97768e91aa4df2.png  a434150253f9f7d44e43cbe2b8130a60.png\n",
            "290e23829773b9d0ff9ca9fe86e763c4.png  a438931b901b947e98e8e452c8ff6624.png\n",
            "2932d8862fd9b59170e523c2ccb16119.png  a49817242448ed2b77195c6e5a572ef5.png\n",
            "296295590052c23bc6396a839ee15674.png  a4af22670cb761ffa8986badf7e624f9.png\n",
            "29a06acca8dd4abe18bd28216ae45093.png  a4bb711c5f2dbc8e9ab9a60fddfb769d.png\n",
            "29b4f9cce559849bbb4adab2ba028988.png  a4bcd82385ff06298f75cc6440787f47.png\n",
            "29ba4b6d39833c1f88dbbea77ed6ed76.png  a4cdc89a1cfb0e9749c7836fa6377ad3.png\n",
            "29ebab006178b09eadff40995277a1b2.png  a504417b395fa8ec10b2236556b4e882.png\n",
            "2a173f680bab8c5ac416601889582a00.png  a52f4da0c2deb027993f60682ce5de00.png\n",
            "2a1dc1aea68e8b33498a456ce950f9bf.png  a57fb109b71b3711a9be643a253662c0.png\n",
            "2a20bf5e1a703d06ada159c251435723.png  a5c2d34597a76394b183744afffebe4b.png\n",
            "2a40d27cf82efe6102880b57ea1d7b5a.png  a6580ddde5f08ee8db8169ddf7379044.png\n",
            "2a4b13156339f751df2810c383634cb7.png  a6b269b52dbebf7936598e764c6780ba.png\n",
            "2a5d28757607be71921646daa6516fef.png  a704f43f840608c567b21328b2b3bcdb.png\n",
            "2a65541f6091b804c99e3982e2b6e16b.png  a706ba8df297990265e327618fb3549c.png\n",
            "2a9ad0d4fa73e01bcf88c60f82d7550b.png  a71a66ea7296007c30c0910b4882968f.png\n",
            "2acbaa3c3d30beb4084b80e4ebac3627.png  a72f3fb497f9d5b99acd97a0f3c82305.png\n",
            "2ae0d774b41be69a2ae76be2e84f1fe1.png  a739f702bacb8a373809d0dccf41e1f0.png\n",
            "2ae13fb16510e02229506ebbfbaecfe7.png  a76211fdb2971da482e059c3491a201f.png\n",
            "2af11911880ad99a8102baa62cb9eb74.png  a7665e51a752fd3f4343219d4d30db96.png\n",
            "2b77b0c856c4c66a1614797512d95569.png  a7e300d147c42630c63d05e3e6195eec.png\n",
            "2b81fa3975ef627a9da9b26dde833ecb.png  a85d3720ee2716c4ae285cfcf8beea1e.png\n",
            "2b8f5210c48b60c8bd969e1a9a8906a7.png  a87ba0546f2c43277d44d682c75878b6.png\n",
            "2bb455efd9ebb98273a8c72060be2d0f.png  a8b9d4d23a52204d720f4a1fe374253d.png\n",
            "2bb624ea0d8fe4aa06bb7d16f9e7490e.png  a93af472e841fc7ce809229f077a43da.png\n",
            "2bc4b6d6826aeabcf7d67c651ed904b1.png  a94ce4b3f13efb4b5ff38031152e0741.png\n",
            "2c33da20e3b9cf9835dfc972ff3fbf29.png  a954883e914be6147ab231486fc1d6d9.png\n",
            "2c35c8d75328d7d8b68c163e7d10913c.png  a97a73e7bd480acf535ab91288be33b1.png\n",
            "2c4939dbff4084d1b516e5b35d4ee54d.png  a97f717b1a0df76efe68ed755803e6ea.png\n",
            "2c585bbb05157b417a61c788616adeb0.png  a9a4b21193187df47126c632d3d38be9.png\n",
            "2c61388552621ea004e5ee2506825382.png  a9d5ae808ca4ef24590937f031343e07.png\n",
            "2c71f5ed99f58cda5153149459db43e4.png  a9e3b5daad70819ef0b71c1fce20616d.png\n",
            "2c935f9bb0784262e91c542bf5f0ce4c.png  a9e92905262f601b6d36ec74108ad61e.png\n",
            "2cc68fe7b7afd3d8919a554dccf13ce2.png  aa0bc75f54daff2ab699a6ef91a65d9f.png\n",
            "2cd8cddd56ec336809399e3cae1a7444.png  aa18020774d1f1e35e061458681c6f69.png\n",
            "2d35f8bed3169982d5423d44f57147d5.png  aa3e94de55af0475b356850ed649aa1c.png\n",
            "2d606d1c273909db029d8e138fb63e33.png  aa45c78481b36ed17ce498e5efb1b0e5.png\n",
            "2dbcc619f20c80bfc8c1a9b4952c5a7a.png  aaa96bef2824a1afac85fcc12a2efe2e.png\n",
            "2dce88ce79d21ba177f79fcb51dfb050.png  aabbd5704f37c91662eca334a3711b26.png\n",
            "2dfa7ab227f6e68266182322e9d77f97.png  aaf9a21b449fe5d282076ee340759be2.png\n",
            "2e21d85f0426f6cefa9cb9007416ae6d.png  ab1b62b3fb76d76efa4936b5c6904a9d.png\n",
            "2e2ac6a3d8f456925009f0259d75142a.png  ab25eec3a24d3ee4180fc7a8b2f83fbd.png\n",
            "2e9df58bb43cb59b646409ac001f52c3.png  ab4b91b981f3e5ba74c8f20221961cd3.png\n",
            "2ed84b7a01f2cd0a7414f477b8a7da71.png  ab5d232c4442c4d9b5946c9c345cd2c5.png\n",
            "2f7db427e7e87824031662fe52a08c17.png  ab65ccdc0b07d5d15146f795bde9f625.png\n",
            "2f881177cc1c7ee0b88a342d3a709925.png  ab70514ed75c56b4ebc3dc52cea59409.png\n",
            "2fbf5215059fbb94dd0c5e0bc9566b66.png  ab7fc3543317839c3ac761a878719ed4.png\n",
            "3015708b670f843a33ea5d5067da4b77.png  ab82aa64f6beb4a0c121a8de126a5eef.png\n",
            "309876474b4dd88798556d1ae4141343.png  abd961674f8417c4fbe8680098a8c6b3.png\n",
            "30a43ab20b0cdf0df1fc3e7ce3889215.png  ac176e68edb86cdbe8a8fa0ea0122b7c.png\n",
            "30e44b2f8ba54d975edfcd2e0e2f994f.png  ac4c285984aed8e95724b75bd333cfba.png\n",
            "30e7377a8a1f50461109433d27081adb.png  ac5e064159ab2261c95533fb19a0d31e.png\n",
            "30f940a953566d4576837785e5fe5d27.png  ac683480367c5d1018054379e6f8754d.png\n",
            "313c1aafe2dbc666fde8f01b381dd442.png  ac6b4e251b28e52ff4ce3583a12d5c3c.png\n",
            "3143e69de297531bc34b47e22e8344a8.png  acafb9f13c591ca78d7643e89243c715.png\n",
            "315060d508ac84e0656d32a5a0711eeb.png  acba8738a8b79463b873e1657edec76a.png\n",
            "3176b39b6ee09eca20935bf9c8eb6db6.png  acf070a2566f97149620baf2219586ea.png\n",
            "31acf1a079c90ec11a7270e4574948cb.png  acff9e44187cf336002f12880e125741.png\n",
            "31e6d59e8adc46ed63ea02def5e436d3.png  ad01863b5026e7ad1f225336233b9716.png\n",
            "32147406a0964336ddb5907174f82ea9.png  ad22af1b983faa981c45d450e9fff771.png\n",
            "321968b7fb9ba70efd1d8e53030419e6.png  ad3bf6b0f111f21e452bab3f589dc2e7.png\n",
            "321b975dacf1ae8985cc09e8629ccb0f.png  ad45ce5f967121d05adca4aec3fc75dd.png\n",
            "323bfe9718d308bc321305200a88a2fe.png  ad4f3dd94c8eb127ebba3311f94195d6.png\n",
            "32519f080460e1b0650b46b41ad9d04b.png  ad77238c086df90b46e6cd2902cf40dc.png\n",
            "3273681e8aeb0be4d25bd2d42514c95a.png  ad7e1404f3c5ae54fd3f23699755b2bb.png\n",
            "32793d5f76cd40be503fbdd48082021d.png  ad96de18d1b13fb467e01aa3543f2a8e.png\n",
            "3279accbb6ad3182f2ea9c1f0ce04afd.png  ae1205103cfa2efebf394974d2fe09d6.png\n",
            "3294f8b78a846535dd2cbce8d9dcf11d.png  ae143b238254f1568e6cfc00d1508071.png\n",
            "32a1e01bfb16d4159424333b81b75c98.png  ae25be226150cd2318b0effb8c8bb77a.png\n",
            "32b5949b63d250ae42ad35a2fbe4355d.png  ae5439aa5b83c3989a189ff27491522f.png\n",
            "32f64dba49d6107182fd80dbfe53e512.png  ae591e1f5659f8519a26e1002bc37473.png\n",
            "330fada9bafb2a523c8d3f7c8585eb1b.png  ae777f1b004b96ff17fbe38ad07bf3d3.png\n",
            "332c3e746ae2be5fb4585256b25542d0.png  ae8eeaebcdb49403f2f70b7d74079605.png\n",
            "335d920bf0ec3b43a3fc4d556dae2aaf.png  aeacebfb20bee3820e6e59ae4a51bb0a.png\n",
            "337c5ba26ce9f116b684d784937eafc2.png  af24d1bd2b6cbb9fc5b6c70ed494b8bc.png\n",
            "3388e6f1e397546f6773cf8b7e3222da.png  af308144de5dfbcbc40d5c09c68139cd.png\n",
            "33aa7d6f643dea6c3153185b02770c1b.png  af35b9bfa7728ba80f921b8fd0260ac2.png\n",
            "33e69e0013b21a9080345262d5c5cea6.png  af367817c7b7d2c58f41aafeafd77256.png\n",
            "33f5216faea5eb337acccffeb9d7632f.png  af4c9f4380bcc6245f38174621651b20.png\n",
            "343c450534b43d4ddc4e52e45fbc47f6.png  af55b1bdb0a21e59562f772ef10b9b04.png\n",
            "34502a5081461491f9bacb1ca4158d57.png  afaee607f685dbe77daaf76d530bdd8e.png\n",
            "346a5b7e7678a5b5cd409c78f3e13a83.png  afb0531c4ba4d6433bbdeff4bf0d11bf.png\n",
            "346c1f64479fe68e70054524071552af.png  afcceabd3d86fc0454f975295978b76f.png\n",
            "348233400e14d34abb32afb3b433176e.png  afe6290d94945a512b90845e1a2343ab.png\n",
            "34859997efff8f8cf108a78a04364c32.png  affcfc1de16b011b47f507be97c6dbf1.png\n",
            "348a046a6612a0eb57aef9c991509b38.png  b00bee2805388155f17f26401a499ac1.png\n",
            "348d16a0a43de70a3ced42701a1d3747.png  b01e4bb5183aca314952e88450a787aa.png\n",
            "34adf019130bfc0dee82cde2fadd2786.png  b04a2d4194e0e4648928758b2fff88e4.png\n",
            "34c506f41c63c9fc6ccbce1b365d6e7f.png  b06bce4b66e8ced4c2f40f7cf5ab564e.png\n",
            "34d0f0a8af63a2363c0018787581b7e6.png  b07a73ebb85ea06b111cad0b42478baf.png\n",
            "34e4c251119a52eae956e7ded67fa290.png  b086c958265f7167b9c126749cccda0a.png\n",
            "351a696b72155fb318fefc8e99d5866f.png  b09912d4741f987f897733ab9bc2c7c8.png\n",
            "352e6524b48d1a060b9c0d7ba5f520b1.png  b0d19ff91e87035e2d7809dec35139d6.png\n",
            "353d2dcce67e9f92227679cd0a365146.png  b104c8a83d157b6062669d6f12b24528.png\n",
            "3555ed92a3628d1ad5a9802b93bdba11.png  b114f3ebe8bf00e40cf5d34f7873b283.png\n",
            "3557a5bcd89f026c44ce858e845f81b0.png  b1330097745c4145026e868f363b76b1.png\n",
            "35610f64b43c9151540ffd56c5fdbbd4.png  b1397a221f8713e562fb9e0088b99c7e.png\n",
            "35ad831573fc0fcc75c52c8bf31c8c1d.png  b13ad893f66095a0ce7590871a5f01b2.png\n",
            "35b8081cd903f70cdc992d49d84760c6.png  b13b4036255b71b383c7ed789e8b379c.png\n",
            "35c839b463aea2617d7af6c680adf8ba.png  b13c0ad6d5874620a16d4042cb1f0be1.png\n",
            "35c9e76e30e83d5cf17786a08bc95b68.png  b15ed80b2c7a332af99fef483a5745e7.png\n",
            "35d8775d60c67583d6327b3429af0afa.png  b1ab5d7332a2c99d4b0805e06a76dbfa.png\n",
            "35f5b20d2648f16937e9dc8d292ec5c3.png  b2067e9d9c7d55090709e2fec0011294.png\n",
            "35f8f53781eb9fff1af9f71b75570bad.png  b20f1458570041de240090fbb6cfa745.png\n",
            "36003079ea27d6ba02f80e424aed2750.png  b22842ea6e982f919997a6f544d52ead.png\n",
            "362014311fd1307c18a939c70140e1ce.png  b22d370f92a74109131d0b2b0d6f2d70.png\n",
            "362266bc523c9db3b1b1e5dadb08db38.png  b23e2f46145ca72858df6c59fde6b7ac.png\n",
            "362f855c1c1fe340badf961d2aaae960.png  b24ab86839f7f506bd7f91645ab88cf4.png\n",
            "36443e784a670f0849b8dd4b22c221dc.png  b2677b0338f108cb4b7f3909cce2df5d.png\n",
            "3648306dd9d83e76387c8010d53794db.png  b299666718779df63383c11cca005e06.png\n",
            "366341cae0802e0b92e1e555e6088521.png  b2d0c9bcf45fd36df6ee0f6ad5c56017.png\n",
            "36cda3e43e8729742d827203817ee987.png  b2db30e0083e2c9a6cf29667d102fac0.png\n",
            "36ce589239e78352ea12c01e59ba28fb.png  b318788e0d3bd359391c63dd4347f621.png\n",
            "372cbdfd340c24d749b9d383de857d2d.png  b31f44699ee68d0beab141c4eacc3c62.png\n",
            "377e2c5e20bfd5f177b554ad5be86a12.png  b39d0ee4b21e946d5a439a17685b6279.png\n",
            "3796e5bf9f5fdc1c5c8496719442c1eb.png  b3b4e1897793abf0480800f93bcb6b66.png\n",
            "37c9b958f3798d04902ae6086629214d.png  b3df3b2ea61e5d59d26acb16293797dd.png\n",
            "37edc5a3284f0b540b816e9fe4a1f2cc.png  b41b62047b9dcc4d63899a9f054b2c4c.png\n",
            "3810158606100b10f70b740d9043e53b.png  b41c44916d4c9a81e1dbf69dd87f2ae4.png\n",
            "382c2ab2339ff8a4e22176f90c06d4cf.png  b42d450569227f73f732a9754df4deb6.png\n",
            "3859d158c75a4ff0a1a6259a2e615498.png  b437e94f32a1776b7d6e6dd74c8c981a.png\n",
            "386674be22d4cf5548d75f7c09d0611b.png  b4c2887be8b2134da14b2551184b027c.png\n",
            "387663639e87b81c982b132046251dbb.png  b4dd7dbff36a4133d42bd4d93ed4bcfc.png\n",
            "389b806c038afff99150cd776d7d3545.png  b4e2652a65ba16fd6f10ddb9eaf4b661.png\n",
            "39518e2a9738e4ce1215e7cc52c94a4f.png  b50f0c1e972ff507668fd7118558636b.png\n",
            "396c1a91fc80cf4e327ebb79fc13291f.png  b5233d1b8665e6e2f5b6a7e1f977d3ed.png\n",
            "397b16312b9f7437abfb5eafe7555635.png  b5545de39c0b72b08f9b138d3d3223f6.png\n",
            "39914e692400f731de73b9104ec7cf49.png  b56e0b8905116bc69954d230480d6289.png\n",
            "3a20f055240b31577645653fa0069044.png  b5879a076093de2def2df80290c26c13.png\n",
            "3a21885dca8616fa1e06d2c37c7c2590.png  b589f9650c3a2ea277827af1927802c8.png\n",
            "3a3d6c1f7883b6228a7cd8117c14d94d.png  b58b48cdea472afeddbdccaeaa56bbd3.png\n",
            "3a44a0ad20f3cf26d4e39fc6def33c56.png  b5a428279c01e62666707ca4137ae7a1.png\n",
            "3aa7a8385b82620516c3049f8af26d14.png  b5f6365437ee1a5682e5f9d7c44347d5.png\n",
            "3b1b8a25d855da9225e0cf5cbd8eb1a7.png  b606d8efa5db0742010236a822714087.png\n",
            "3b2591d9c4a3376dfdcdaa042f517d3f.png  b636904529981753eae4521f9fa32004.png\n",
            "3b3f1f01edfd272985027a3ec3203ec8.png  b63becceb33e2f393f671654e353d24e.png\n",
            "3b7bca57308a83c58892c7cd6916eb4d.png  b6d3a171d09fe5ad669372f44597b7da.png\n",
            "3ba4947cadf64eb5825eaded974af970.png  b6d3beab38befa9dc61bd4ae4c26ccf5.png\n",
            "3ba5c67b2073ff488d58fd35bf8b2bba.png  b71f8dec3201dbe86455decd3ad34777.png\n",
            "3baaf31d43a41995dbece63bbb215c09.png  b730bd446ddb8aadc9ea341420e9ed11.png\n",
            "3bcd5ef82f9b5abaee79ba217f5e6cdc.png  b780bcb7f2ce4f428328c5fea35ad6d9.png\n",
            "3bf125d5bf835b3453c5ac5d47b3603b.png  b7ad0871b2fd43ea116a163fb8271684.png\n",
            "3c01706d74c11a081fcb2179afa05971.png  b7dd273ce4d9c6676ddec66149df8f43.png\n",
            "3c042543bf61862a36eb456d1a467a36.png  b7df2b9afb01a5bf8fd2a847a4dd8e96.png\n",
            "3c1b56d6554bfd8d68699b6a939844fe.png  b85205a7c7e39052b16c3f29b17e149d.png\n",
            "3c1e7aa165951d34f3236126eba837de.png  b8650e25f494ae78f209cfa87f4bf752.png\n",
            "3c2490b4d174281c061a7f2efe829d00.png  b86ddce64c3edf7b15183c0e35d2fc4c.png\n",
            "3c28190e10d3af8627762f61ffa080ea.png  b88f82723b559649f6e3f32de85c7282.png\n",
            "3c2a3790a7108553faaa1bf68cc215a5.png  b89b81b29609bdc79870ea32a5b55a8c.png\n",
            "3c332efe00506ca1278aee57cfbcca9b.png  b8d9c4a796d47f12ddad0975d0a26651.png\n",
            "3c486e8c81994bd4e7d707761cd75700.png  b8e4743705be032609a780003cb91258.png\n",
            "3c8d58367eed8c98e7a79a78861d3678.png  b95f6fa9383813a0c43f8c32a278c11d.png\n",
            "3c96e4eda3bb019dd7d914261bcdc6ab.png  b96849da726796f88d78e228455f8619.png\n",
            "3d4020154c4f0e46db9a6e12932aaa49.png  b96f0df38b56d326360104e1ab4d3dff.png\n",
            "3d4f1be996a66234240ace2cd2fd7eca.png  b9bac16886e9375e21c417c3217b67df.png\n",
            "3d5bfaaa42d7f6b99e31b78913e1b8bb.png  b9c9c9d576f160bbce0c3a179228ca21.png\n",
            "3e0d86516fde0ba9168e5fda667dc3d3.png  b9ef18762c90aca8700a9d6f9a7d3480.png\n",
            "3e20673ad634c8bc2656f72c17a60053.png  ba11373f9adf72f164075dd43d39242a.png\n",
            "3e4077f4914002a5307be38b240a2d61.png  ba1f2636d053548c95101569e5fcd831.png\n",
            "3e6984f965cf05fe0dff9b3aad9331ad.png  ba377aedf2ec5ddd42d59654663c32a8.png\n",
            "3e73526202edd0fc7c3a801d76828de4.png  ba44f699ea2113e6112b788f748cf0a0.png\n",
            "3e8f5e33f46a80b7a61863ac30562df4.png  ba483d0d387846c03e3519b1f05f72f6.png\n",
            "3eb9de1f9c3a422571b46b26f8b65c70.png  ba4b563ec5156b8109529c37e3b9e858.png\n",
            "3ec045e63733e845c0d2cae717d5d4c5.png  ba7a7d9b8a2fb39b797ae203c947ef86.png\n",
            "3ec294e651854a8285915261a10acb65.png  baafb259a9da55c145c4f67293bf7392.png\n",
            "3edc4007e0598c4272db3cf833b92132.png  bada6a459585d722f95f990954b2f630.png\n",
            "3ee410e4896e5ea249cb5ae82a60a78c.png  baee69573acc66e3d538a46cd2f16e08.png\n",
            "3ef1129b015cd9a224f6f94249283449.png  bb28eaff5521d65c806f07412262f76a.png\n",
            "3f01afd62809603578b9b140afd07405.png  bba0a0db12bd8079dbccb0dec9e2e1a2.png\n",
            "3f03d3abb392e21b2e1c9f1ed45c40d5.png  bc5fedf6aea4b8a0faaf68460f20b7fb.png\n",
            "3f1eaad65a6be5d067cc510da3562e84.png  bc7ce3aec16a4903c92cb3f586f3289a.png\n",
            "3f2df3acacf24725cb0782e6b8f70517.png  bc818c26277bbc6878d9c5a890e1f9ac.png\n",
            "3f2e60f5f062ddb3017f12e069134c45.png  bcc429050cb51e85c38e6271126d77a8.png\n",
            "3f5bb41bcb693af16365f74a478c97ee.png  bcf9a4ed1482a4d7df28a2c0ce8cd0e6.png\n",
            "3f6cbac116a73d6a26cd4bcbd3fa3a40.png  bd32335cabbec7f6943bae9db45dbad8.png\n",
            "3f71605166d847b513d8a6da4de4f24a.png  bd6f538c119d9774cd7fadf93d9366fd.png\n",
            "3f806885f59030a53f061cdd90771b1b.png  bd89d1bd02e90a4d42224f0587fe8869.png\n",
            "3fa9bebad2787572682c7393f4824b39.png  bdc31ceb122aacbb0523bac781d0b858.png\n",
            "3fb5d7be2e33a48de7788b2cb38845c0.png  bdf7b8c8acea2c9b649499eaef6c8e58.png\n",
            "3fc66805b10b49076b2c88fae019cc43.png  be1d06102744677023c144eea22b3f91.png\n",
            "3fc680ba62c6e24bed1700e34e17955b.png  be89c0563cc84a7144a96f095370b40d.png\n",
            "3fc8abf2ccbb7b99e816c8452ba1ea71.png  be9918fe5240ee29c75e9b61e11de27b.png\n",
            "3fe0cdea8340d15608c4f869e893d495.png  beba34903384d855cc6921c9541bbb44.png\n",
            "3ff31ac5553d5b7f31fed3a1bfbcc075.png  bee717230042a6c2e8e757a904469a8b.png\n",
            "400a4c65bd927146be12228a9148d3f1.png  beeed20c1b4e64cc4158f9f2ab984686.png\n",
            "40236db3831c9d14e45c0643c6d8db96.png  bef291539e4ae52842c4d464d833dc88.png\n",
            "402d76248b476b4bf14c65597df0156e.png  bf01d8eaf14fcb83507665f7c552f091.png\n",
            "40358fd2046e6d189e7d4d4a38b254d2.png  bf19ba584ed17f10bd9b1ebd89fd4bc4.png\n",
            "4045eaacd93d46d763f5905336df103e.png  bf53fff1db5925adca05cd6482f5dc17.png\n",
            "404adb2d57bfd16ae04afd2c86d5cd03.png  bf5418e8a67f082c3f22aeedc0f34f4f.png\n",
            "40520a057fbef9270a1c0f3f84550f4e.png  bf73762a9e53047c59398dcdac1bafe4.png\n",
            "4083c843ddcf85f8aa2bbe91e8cdeb98.png  bfea656beba6f0e592fe9a055bed9297.png\n",
            "412ac5364ec488355cf68c4c4d4e3ed8.png  c0086cc33fa59795f5b53c548ae32852.png\n",
            "41bdc2442c1a50c0674f14b2c8f3371e.png  c028b775da35e401c27a840bf553ab3b.png\n",
            "41cbc00141996afd6ebcbd9ec7a03262.png  c045289c077c80b51ec4d57dfb4be593.png\n",
            "41e562e3ecd7ee85cb99de0d9a20faa9.png  c05227a0f86edf5dba5f5400226fa2d8.png\n",
            "41e98e78ca51ec7ddee1238c4495fedd.png  c0b7d54086ec123dba812fed676c0767.png\n",
            "41ecf87dd0e93f085d23173dd7e6bcd5.png  c0b9ce771f13548c6ebc57b2d47b8ba0.png\n",
            "4206f8d79fd3ecef964721eff91b321a.png  c0bda95ee21edf3257a5b7b24a7769ba.png\n",
            "42144beaf2ba37c42aba2adee7f8856a.png  c0da7c1b71d4dec2880cd364a39bab38.png\n",
            "4228bd4701f2b9fd1d07a47110b19df6.png  c0f2bb8e9403db74c4e295405cc85935.png\n",
            "425fd69786bf8afd6b6db4ee8b33876a.png  c0f6225e5e6ff6dd3aa2304ceea6176b.png\n",
            "426d95ecd2743334f74f8b28175b4b10.png  c101de378ea7e2eec71d5e8714c51789.png\n",
            "427f56d4f772bbb6132cf6021cc6c381.png  c11c84abf6811574a770516204b71366.png\n",
            "42cff002e624dbfeb299fcc088032bc0.png  c1623c77165dd214891913d645ba9607.png\n",
            "42d15b2582e6bd1d750acf6b00c57947.png  c1b1e888174dddcf2d6f2e21657f6d86.png\n",
            "42f3f27df15c43bcfd8f3f39c7741414.png  c22921c38f7e5e8d290c1252933eeeaa.png\n",
            "4360800829a7de16b83e4d83052f600b.png  c25b44d7fe5ed4bd0c5935c9e8fc6391.png\n",
            "438ddce7439f6d31d59b98c4cd870f95.png  c28321639469bf066e4060d1f1439d0d.png\n",
            "4393162d512a76835a116b812b5aba75.png  c28bce1e8e18c3e99980a2bc5749ab3d.png\n",
            "43b24d83a0a9acf236de456abf931764.png  c29e532a6523c8a30f2c3b66e6303b21.png\n",
            "43b8b1a2ab41f43946fafd2c6bde028f.png  c2c83c6bc5d58e8c47047e5789ffc843.png\n",
            "43d852fa8723b9126a12fbeb8bacd5a0.png  c2dd585abf02dfb863c50c6117c509c8.png\n",
            "43e84caeaa8420e1e867fa8f0fa4152e.png  c3133d6d5b86bc5c11365c02a2548ded.png\n",
            "43e8ef74bdd8cd8eedce2538eaf297c3.png  c3197526f2df161d195155837edfe0db.png\n",
            "443648f9f39eff56a129530434fe931a.png  c323257144e07ecdf60134c4f2ab0526.png\n",
            "4445140ca6a00e08ab6ad3695e8d586a.png  c33d60142a259cc3eb22d0609625d6a8.png\n",
            "445e844813c7005d7e721e1f87b579a5.png  c33d853adda569d63f98d94462d305ba.png\n",
            "4460ea82f1c322446fee69d0ad8146fe.png  c34099ae75288e911dc2ac0e2b6dd38b.png\n",
            "44b133883613efa172a7a89ced8db713.png  c3451787d3324ab9e0c659013d0638ef.png\n",
            "44bb712e6e7a6707deebd9b3a35c1025.png  c3cbdb7a2ad2cdb3bb822c930a957e2e.png\n",
            "44e965e21ede0e1ee18cedec8ec26773.png  c3d896822452ddbb414c521819fde217.png\n",
            "44ed3b476b7063f320ec652d88c304ed.png  c403dd988a8d327f4ce8024e55a20f93.png\n",
            "44ffe3e1fe7ba0fb6beace53dd802598.png  c456952cf3ddcadaadf0365b9d0d2523.png\n",
            "450704f8df4f2ec1fcd02131827e955e.png  c4594d61102e32376507b70bac4dbe21.png\n",
            "452bdd71eb9185d118b62b161b5ce8d4.png  c49080d69c5cf2c5819b68d836fa663e.png\n",
            "454060b4d5513c6d1d41ff24cddd79de.png  c49813c8ed454220fefa9831aed50126.png\n",
            "4541aab24096779a833291f1aefd7ab6.png  c49a13ddbab2abbde678b6bb4155a375.png\n",
            "45496ea29b3a6e69b414780b154d236c.png  c49a4c5e055fb426c8b7c44597a26050.png\n",
            "455ee473026123450ce5b8f277ded60b.png  c4b20847f194b235b73667117993fe3c.png\n",
            "4564fff1a71a611597233547e3ae4e3b.png  c4bea93073218bf48548d249fa33719a.png\n",
            "456c3b73213ceda6573056d44e8942ef.png  c4db048292340646a41a8bbef7a4a651.png\n",
            "45721607755d9abf7fc46456473f4d4d.png  c4ffa1bc488e186f603ec1385f2d662c.png\n",
            "459ed02147935fe50b62e5cdb46b418b.png  c52c33a35bba76290d48e623e673ad4e.png\n",
            "45b16ee900cc54e26ca8141504f2a37d.png  c52d7fcf281eaf2e39e18b8ecc0a8070.png\n",
            "45d020b9ddb2dd5cc478f9be585788a3.png  c58913e25bf4dbef1aecfcdc210b1676.png\n",
            "45d3fcdb1869f09f2eab80bfc8dba5f1.png  c58a5a0e681efee5f5be7ce10e082146.png\n",
            "4616080b34e1908c13e67d360d0f815c.png  c59722086838b7c1f87087b29a52c871.png\n",
            "463669261e59239d0056bbf796dbed1c.png  c5c6e48968ffbad3a57f1e3af39288e4.png\n",
            "4656fb821000084018b2afd0411b6c87.png  c603d296d90d2a40479f51d43a15ad0d.png\n",
            "466b64597aab0cc111bbfd412956b12f.png  c607014b97fc6500bdc69cbef07baccd.png\n",
            "46748c7ef07b3c582d375a71b50a3436.png  c62756d8bfde8e6a1922cf71f025a55b.png\n",
            "46916d3a86819bbe337be16b21cec6f6.png  c62b9998b6ed3be963db0c1fd5dba1d2.png\n",
            "46a9510d4f0e5beac0bfdbd5214bd66e.png  c6701ed0b083f66aaaf4f124e0a2a809.png\n",
            "46b0de7df6a0663dec163773a68970ed.png  c68790bbc315a53c6644e65a7dbd9203.png\n",
            "46f5a07901c2de7e7adfff273854062c.png  c6921aa0f541ff212ee88c95cd53fd43.png\n",
            "46fd9ae5d6e280c2a07b5dbb48426956.png  c6b0c9a37c9763a821e62b44fe27f177.png\n",
            "4710a90e6225908cbda22039364c175f.png  c6e04d162e4eba3a47c4663fcb8dd87c.png\n",
            "471c85522348ef5fa14cf31cb27b9a74.png  c6e08d6e5e4698c739040775666ef3ad.png\n",
            "4757cf5e918d6ea2bf621e2c7cb88e67.png  c6f2a9df170e816c829fcd02c094f266.png\n",
            "4783c02f81717178087bc704eeb5ecd0.png  c715057dde15e11c3412f5d2ab93405e.png\n",
            "4807afbeb7904606606459b0b866da74.png  c724b07ca5f303eefbc574d0193e9909.png\n",
            "4830b3a44ca523631440e67a227f2e70.png  c7f13198d61b964b2e6d83709f1e2f65.png\n",
            "483ccb52e78b2cc929e2c1f79f7d01a6.png  c81fef5c538718dd88527c3b4bb795b3.png\n",
            "485f1f09abb91741dc2952b5fcdf039b.png  c841c9bac77811bd2866b480aad3b91a.png\n",
            "4861ec173725cbc4c271c510fae4e410.png  c855fb30e22dc0802685f4c6d5950f58.png\n",
            "48a8788200cced0ee0f50b9ec3413727.png  c87f1d516cdf7ba9b48311a44e8cc958.png\n",
            "48deb1a509d5ce553982a4bc27415b49.png  c89033681c2d2aa4d9cdde293ab165cc.png\n",
            "494438c23acf3cf78e487b1e4c49b43f.png  c8a522d3011b2fc75952ab9eca40bfa1.png\n",
            "49600329fd88ea652c30c373777ee9d9.png  c8a82132509831acc8d6a09e2f6c54c3.png\n",
            "49acaf15319642c364a53b5698fb97a4.png  c8ba40e978c5583afdb95d9f48b344cb.png\n",
            "49f19fe96e18365e56a0dce361051f1a.png  c912417eb301d00843fd61f6d07eb608.png\n",
            "49fc53919221fa03fc9213e4cae9140f.png  c941d5d78c34771232cee08758b0fe9c.png\n",
            "4a201fc45bd1b3c88ff6143983af37ab.png  c977f0cff5857f6a90795589a134d84e.png\n",
            "4a2bcea27fda5b1060ca81bfa576232c.png  c98b3bf1f33c6cfb4c4c5c313b15691d.png\n",
            "4a33c3eda755bb435f8d1186c37cc5ea.png  c9b7fb5bfe8bafc4e757ec138f2944bd.png\n",
            "4abdddfa5ba1dbe6d532632bbe3d25bf.png  c9cbdd6aa8d3e380a20d4acf2b0598c9.png\n",
            "4afdd3d06313c3cd46395b02b29abd91.png  c9d2e0f8ff96d8eeba23511184bf2ac1.png\n",
            "4b0cd245701062c9c384afc15e6e1fbd.png  ca0a56fabb94683466300c2897ff8fcc.png\n",
            "4b16b8a6b3982a270e6134a8a293987b.png  ca18caa3466d11c9211741c8002f89f1.png\n",
            "4b4b7cd561b5c36e07cb683c75906610.png  ca1f31d630b0d8688e5f792dc1125e7b.png\n",
            "4b729ef2a96b1648629682512ae6a6f2.png  ca2e88e0376e466f34a5f32d98f63d55.png\n",
            "4b754a4ee9c3be850fda1d88ca190e47.png  ca4bdb5990fc1f592563a4f19d06bee8.png\n",
            "4b975b27e13b18a2cd9c7d86cd708759.png  ca5827c5165c5e03f679a1f1ca66c886.png\n",
            "4baedf8de19d307798bcc72b394a2585.png  ca77379b7a0079494f751d09d58df47b.png\n",
            "4bb487e2821cce115f78aef8c628fcec.png  ca96904dc82e068e742626dc726ab32e.png\n",
            "4bc2f3b74301424dc59cd4abd343caa5.png  cab2093830d4c25d8a0ff81f23fb6d37.png\n",
            "4bd48b9af4b8146771eb90f583775586.png  cabe3d41254e6035d15935be4764921a.png\n",
            "4c056058d4e648e06b5fbb55551f2a11.png  cac0f5aa4cd46e7b0126294790887197.png\n",
            "4c11fc9012f60166a505e47f451aee1b.png  cae1b4a428d1452acef17ebc10cc2dd2.png\n",
            "4c32ccd52306b361400d74a0db98b4bf.png  caf61c17a6702defa229baeb1520013b.png\n",
            "4c3c813a77da630011ccaf7011c5e3e6.png  caf9d967141fb15ba5bfa192a1b550c6.png\n",
            "4c48f22330a7414ccdb1113b7e54e40a.png  cb3c9d221370c6673d4e865404c36065.png\n",
            "4c531aabb6f0f36782b85730d62e5b22.png  cb59da159915e8e9775cdfa11438c2ab.png\n",
            "4c5582f5a22d8cc7def0525953df8971.png  cb735d72689040be81bceea56ccc2d3f.png\n",
            "4c61dc9ac9b5fe0166e644eee014b17a.png  cb737ce9d435416f2de753ba161a9ab6.png\n",
            "4c873b6e54d5dea64aa91d6ef4717543.png  cb985c56c14fbb570696992f1233dc57.png\n",
            "4c87ad35bcd34309f7eaede87f758704.png  cbad234598f46cbb8df8b37a8f6d12dc.png\n",
            "4c8d9358b05c369e93264e6dc6f00982.png  cbaec8167948b06175af4d51977229ca.png\n",
            "4c9134aec4376990873de82753036267.png  cbb32a15497a1ab7580324cd244cbfda.png\n",
            "4cbdece99da9af3ff89abe54ef77d3ef.png  cbb3636fec3d3684f4a593953014d85b.png\n",
            "4cc21b2b9dd951593d5152b194a2c4f1.png  cbc058f6870956caac3e1e37baa49d3f.png\n",
            "4d08f649a6fbe7007abe0bcb944077d6.png  cbca345c742d2172370fde6179153de6.png\n",
            "4d2cd68a60ef7bd2539a865031159b81.png  cbf211d3a5c76eed12357306b23578a5.png\n",
            "4d4ff9b8559aee2ae251d63b5fb51032.png  cc1e0cddc960b5b9a48471b9fe6f8db4.png\n",
            "4d63bab336bb780347ec70a1496c49a6.png  cc585f4017f615acb8aad52717d16e2d.png\n",
            "4d650402129acedfeee9d81b43098d76.png  cc9826650b199f1eabf96dd4e243b8d8.png\n",
            "4d85ff4801f307a5897afdce976d17da.png  cc99368ff5bdd515f1c548175081261e.png\n",
            "4d985003efbce6bd5076846ff3f59bfd.png  ccb4a3f663edfd10a92aae327508e3bd.png\n",
            "4dc58de19900091ec7d3bbc0476e0efe.png  cd09f15fe9c4994dceab24348d24c75e.png\n",
            "4df6b87d3c44edbc94a584ac67147bed.png  cd23178add9d9a8503cac7034cf60267.png\n",
            "4e0f4d9a3ad7f15fd15ed53e567f3c93.png  cd5cc4db686b1fdf9a76b7c0701453bb.png\n",
            "4e4757bfbef4908f6dad6628c50a5419.png  cd991f9ae1305644746f1845b604a5be.png\n",
            "4e713c4a85d345b24fc6324db58f4e0a.png  cd9a0ff9a01adf1c9d2118dd6e55ab55.png\n",
            "4eb4240bc6725ff298577d46abbd20ce.png  cd9e3d8ea86e4ec6677c1a88a84468e0.png\n",
            "4ebbf11d551fbc1830b817f6bdb02407.png  cda180f99ca79a9acfe2deadce233887.png\n",
            "4ebc7884ac13af204b514032f512ba30.png  cdf5e8452e35c7196fd521c2da399a5e.png\n",
            "4ec6c9f9c216732b9c338b16c3f59d8e.png  ce39c100917ba6e201c942e1bf4d1296.png\n",
            "4ef3b51806fb4e175d1934e15ad1424f.png  ce555e3866b89bcf858ec9c88ba51263.png\n",
            "4ef412c7c048884ba2d6a199425e64a8.png  ce7e345b9559abf73a13b4b6844844c7.png\n",
            "4efff6d32221dacef0f08e2febc2640c.png  ce9affa0c9d402ceeeeae9dc92391d49.png\n",
            "4f0e96eb10d3ae82a1908d52a897275c.png  cec17c13af7d556fdd5872e0837cf598.png\n",
            "4f2102d59e74cf398f5fb6225ebb0cb6.png  cec2cc852bc951217e84557eb7dccff1.png\n",
            "4f6520b5f149aeacbc181f5c3bc73b12.png  cf2492bd32233caa4f19950817f9b27f.png\n",
            "4f66cbeae96562d277b4dc351bb6bc57.png  cf54a8bfbb7f309f91ba1b3eb68a52fd.png\n",
            "4fbb02ca93a75cc83fd5ae8e7ddc5dd0.png  d026107aa2d440a9bdfd5e350fa783b2.png\n",
            "4ff155034c62cd38b95c7c3729400cc7.png  d0596a7d14ee5724b39ef00965600270.png\n",
            "5002fe48350f820130ada71616ae4f18.png  d066f8f222b80685ab0986291a80a4e2.png\n",
            "50331f2ca55e596a4c92f327d4db68ba.png  d0bc74d128f3ce9ad489a2498b6e8dd6.png\n",
            "5035230282218296f74b8d4485405c7f.png  d0cdeb538dc9d45c6287e28cf2904412.png\n",
            "5066b4663dfa6aa6805dbb1de483c021.png  d0ddae419a4ae8b9bc945a881cb7dc96.png\n",
            "5066c529a59f0802aa573f347bcb5fa0.png  d0e1bbdd7ad7547d43c9a8b904a4945c.png\n",
            "5075c804518f299481ead1d0bd1348b3.png  d1230b04354e11a4bbccb437578e142d.png\n",
            "5075e83bb71a499cb240dcb0db6acd31.png  d13f09127b82c8b3ecc6ee27ced86c45.png\n",
            "50984acf872f621117b18ec42dd21267.png  d18be59683cde12aa2a2bacb8b0942db.png\n",
            "50d9ae79a2a65439250027e9e7adb2f9.png  d1b861f5746216315a87dfc20b339ff2.png\n",
            "51042b75a9955137824f8b1c0ad42959.png  d1dc04905577642d9438441ab19f43e3.png\n",
            "51067c3946e6973def724dd6c1ec475d.png  d221f6e77f90c246a7eabdc8181f4330.png\n",
            "5114df97e7cfc5cca47400611926b064.png  d24abcf54c26c60e666a6653588f7ac7.png\n",
            "511a6868588ea9dc953d6f946490390d.png  d26a71c447f15d401913db56b4ca1d9a.png\n",
            "511fae6bb6d7ca4315c6e9caa44f633b.png  d2758dbabf0abb3b4199ceaffdd955ad.png\n",
            "513f094f0c6623a55ba06a307c723168.png  d278865c82510b999eac77f3f15254d7.png\n",
            "516f7f614f2b85a7220ba79db9cdf1a1.png  d281710340ef3b668e7353dba00fcac0.png\n",
            "517b0b6389d180fb23912f3b160e058f.png  d288ce98d53f3bf05f62cad0a58bff63.png\n",
            "51a2ff9788058955249db64701e59c73.png  d2b44d004d2ed948662d90ff261e2d75.png\n",
            "51a3d4f51305b24c984b158112626bbc.png  d2b6ff3e37d813857225b19020e1ce36.png\n",
            "51afa2f17fb73cc977f649fe8ed81665.png  d320f8ce4b5b80a77a3a45cff96ec2d3.png\n",
            "51e53f2277e75152b8d5f7dcdf969b95.png  d35aadccf09ca4730aa86c3481dcbce8.png\n",
            "52315c63e5a2327e9bba004682776156.png  d38bd746fcc0723fd93b0fe15e4fb789.png\n",
            "52432ae3a2226a29f17185f95d71a175.png  d3bf50060a556893013c75cac1c3a593.png\n",
            "526c296c9905c2f508eeb6bcb0049db9.png  d408422cb8e870ed52aac45384abf5ad.png\n",
            "52730106a9a5a2d1611d2aa6a80394f1.png  d42b97c59b00e15f6be54135ce8e36db.png\n",
            "527c3752ee1feec1fd4e9f5dc15cfa18.png  d43526ac6370be9e56caeec162c45a67.png\n",
            "52ae823678a9d9c179987a10a9d0d287.png  d49b113dafa16e9cc65f68400f75a6c2.png\n",
            "52b43b1e1cef5c63d0f556b4c7014d73.png  d49ea91b763299bfd4f4d46f2d85c56d.png\n",
            "52ba983721d3142d2e0a70c4ede116aa.png  d4c58fb703f6f50efa4d24ce4c86b200.png\n",
            "52bfc4474ede2891bd90aeb14f235bff.png  d4c75f0335a81bcdd55b2d358d35c31d.png\n",
            "52e9c32207a9dffed63c06363f8aeace.png  d4d58447c5cad3e4fdeeed29d213ba12.png\n",
            "52f3265e294a860078b511e54559205a.png  d4e68a12b5a1bfc7491aa233b5b311b8.png\n",
            "53221b8988bd55f2ac452b41a9f991b8.png  d4eca0517ea5b37cacf5fd5bd5036ebc.png\n",
            "532c3f82e1cf708b4c5e7ce2f1164ccd.png  d4f11002e5de397ca0f1c3bf6d8ad49c.png\n",
            "5345211408d815b14fd68f530ed65b3c.png  d4f75f6a0f0c74bf4659a0e012445259.png\n",
            "536e40394f417dddb4e8af9d17ec2ebc.png  d511a4658951840a41d9f3d1ca0876bb.png\n",
            "536eb5793f3a6cc2b3be12ded3e79a9e.png  d524ffbf812037dd71ed549540a2f1ad.png\n",
            "5375f813854ec011fcb15066f0ba1970.png  d561d7f771f371676fa6cfd501120e30.png\n",
            "53b0f1d6afb4d5d80a624969cb596490.png  d56a44a380f848bd290cb081c8bd5041.png\n",
            "53dcd7f3079068cc8f4f58b5aaac965d.png  d5a1e92817f00a3116cdffedcc5aff65.png\n",
            "53ec40540c605f516d905a77205410be.png  d5ad456ba5a475e538af155b5a650cf0.png\n",
            "542ecbf3d89cb7b35bd31305f7181b64.png  d5f17129910e833b34187c43004b0c95.png\n",
            "54426ce41ea4c235fb41d70434653f31.png  d5fe20e2cb8cf398048356549c2a5305.png\n",
            "54522e728d680ccea6f39d092cb52740.png  d622ff5a30ce4751a781ae1f66d43589.png\n",
            "545b86af79a9e8bac3abba6a849c5aab.png  d626e2b8f840dc4badc5362660e99ea2.png\n",
            "546e4b28abad27479b4622aea1304781.png  d629631283447518f62da413e9fa8323.png\n",
            "548fa7f0b00191058ecea6ce16021b9f.png  d638f6e221a8ea612e8844b2247f69dc.png\n",
            "54b18b63be401f9055f758fb5df7b9e7.png  d63c06164a88c7b6dbcfd1e33e5e4b27.png\n",
            "54cb9b2ceb2f2d72924224c77c4a84ea.png  d6487108a9b56e182956eef533d70e30.png\n",
            "54e5580501ac662fe4de1f239ad6c747.png  d65751971e73e216c921e849889e3aed.png\n",
            "54f7309f0fcc275d296cf882f55e1983.png  d661324bdfc75ef727edb2ad16965020.png\n",
            "55391c44c6cea44667e5ccb111fc67fd.png  d67006a5532ccc2f46c0fe1c4991b889.png\n",
            "5549589abc9615ec11e5048faefe101b.png  d672f2b3aa01b7d72761396cc7257698.png\n",
            "554f9dc12bf58ed9817f2faed0bc1740.png  d673c12691b536499658964f366d5db9.png\n",
            "555ec76dad6174d2714ee6e5407f9e27.png  d69872fdcb8981c12937dacda8408273.png\n",
            "556d6eddbc7a2ed40852a03e35da90ca.png  d69bd2b152754fab1e09b26b36d60669.png\n",
            "5570765cbb8aaf2ed6444c14eb22d069.png  d6a6bf11b68413d557a3c202df51694d.png\n",
            "5595b8d2840cbe984d2560e3abe0d010.png  d6b63e2757fa0dd42efcb96d8e532a0e.png\n",
            "55a2d86e2a9b99b3b94122e139cad140.png  d718cfd9f9830fe8cd37b3f0c78dd6ec.png\n",
            "55b30c99a643c87b785eb82a1ab2da3f.png  d73429c2225b784b556e73abca6f393d.png\n",
            "55b6ef351b42ce4f83c00067b83582dc.png  d75e1d0b8f41708f2d945aaa71394e28.png\n",
            "55c416b5c699e7d9368c8a6b2fcaef10.png  d79cc6811464b763f5ad87696d24074b.png\n",
            "5600b5cab2c3d4b1ef62d492a4853575.png  d7a173db0e0f92c2e0c0037093dd48ed.png\n",
            "5636f0147889dee45094644087ff5f7e.png  d820b8231f700f29864a463f4a616eca.png\n",
            "56667cc7c96e95504266545a2facd9a0.png  d8312bb4bc429982c20447fa86c928d3.png\n",
            "566d7920d07e3e51f2c0c65630be941b.png  d859603e6e8d2e5e69d3737435c8bee7.png\n",
            "56b6fd7504ee54d40cd905719b093203.png  d869d9de407fdf6caa883b4efac57edd.png\n",
            "56bfb1b676419c4c85ba6242a0a9b930.png  d88c7cb7c9a18e7d5e53165dbdaf9113.png\n",
            "56e656e1400fff9dc5fe77edff0e4550.png  d8bfd37e0cf2ab08eb4be4ef9510886f.png\n",
            "572c53bba787b7d1db17df8ae1f81f77.png  d8d8241eeff99d7e9238f9012c792729.png\n",
            "574105f56e1cd544f825e8f007d481eb.png  d8e3ea502a650ef7af8803837b598789.png\n",
            "579fe6203e6b2ad9245b12eb6e76b202.png  d8edfe641d831c0a0feeaa11f5df01ba.png\n",
            "57a6a443c2dffe94b6aa76639951e2c4.png  d93a2d3b8c543e30d1a8aca89f272a36.png\n",
            "57bdac8517cb501d88bedc06c1a53629.png  d979685515a308d864e6dc458e7838da.png\n",
            "57d5808d8ba9bf48f83ff30037947d76.png  d98143e33a7ccafd9030703a95d090af.png\n",
            "57d5c480fe6b6742b3d75c9320224a71.png  d991a3df2eada3fa301627c739066981.png\n",
            "58148f860c3bcafec992627f3e3063a4.png  d99467a278aa00b766d1b8a7c3bc15de.png\n",
            "585d02c39a4481749a41a7fc0b2fc138.png  d9b0f09e88d912eb1bb5d4dff581b66e.png\n",
            "587a0df344cfb63fd63e18b02faf6d3e.png  d9bfb1e815f36e657a9d0e8bff0a6bc5.png\n",
            "5886eec4637d3a4ee6d51d43a4e93934.png  d9fc83d98484c9228919842561093ec5.png\n",
            "58884eee97f3fc56989dfe901ad6c3f6.png  da0234dab2bfefe04bd757539e1403b7.png\n",
            "58c107fb71a09ee0c7920fea48ca0ff0.png  da219169c494806026d6c0063738637b.png\n",
            "58c450f803eb4e9fab0c07cd34966d43.png  da28134fbdf10e39c94f97d8e8abba74.png\n",
            "58daec61cb876f4d4d872921bde44be3.png  da3fad1e81367d66df1ca33cfc51e090.png\n",
            "58fa98daded0f450758a7a2944da513c.png  da64b48b6499957971a73b4d0164facf.png\n",
            "591c395deedf454b31e2a6b208dce72a.png  da6c756ba49038fc2b7fb69508e46b15.png\n",
            "5958ea6efe4b8cee3507a2c4981b5ac1.png  da87e79d889e3f049da828a8f776e9ec.png\n",
            "5966b65d0673d44fead6634c40afe815.png  daca59899d3d7bd3249708365b8ae17a.png\n",
            "597096789768aa94d94b96f18f1049e5.png  db696de4e5ff9043307664fed7a104af.png\n",
            "59d9a06899408eab1037569657ebda45.png  db78975f753cd98b287c71c42daf3170.png\n",
            "59fd88f62b2c99d52bb0075b39225d18.png  db992c5986d4ba3e054737a2f790fc9f.png\n",
            "5a1a763b2a5b99b59d0cdda74ad7edd1.png  dba76cd6ba33d64c27dfa97b418f7160.png\n",
            "5a98f27f34201fa277d1c4298cd77a0d.png  dbb04c5cb521d09383083ba81e1f4535.png\n",
            "5ab28a66bd1bcb39fd0bc266248400d1.png  dc049e320ceeeea4eaefd511a219f5db.png\n",
            "5b2a40e07074dc466fa5d2bdfd27868c.png  dc3af731301b355827679b273c4a2e1a.png\n",
            "5b415b74f56b8be7c5766bd986c98282.png  dc6b23980da70e30a3afcfd6cdcb00b7.png\n",
            "5b42f09e8a9a9a37bad0e329bf13160b.png  dc808f1a984b23d7c6877689971dac32.png\n",
            "5b4952159a6fa19d9aae6526a4701ebd.png  dca24b147ccc7790c9faf12d8a6e50a8.png\n",
            "5b4e70fd33e254374cd4138e6d6911f7.png  dce89bbca021cf41706427154cf88d3e.png\n",
            "5b5c23344af930bb1fdcb35b9abe50fa.png  dcf77acab6a0a65a738735aeccb02fcc.png\n",
            "5b647ae4ceedfad687e9da87716502af.png  dd541290975a75d44ca9f522ce288fcf.png\n",
            "5b6eb30ade4b4e67aa42b452beeb4f22.png  dd5ab8238bbcf80f8fc254d8996ee502.png\n",
            "5bb0a49bf529dadf2b2cda9fa11c7862.png  dda16d6ad525e2981402cb9d9dae8f94.png\n",
            "5bbd8cf126219222cca0500adad8e74f.png  ddcfd3ea77c7c4a7557944771d493ed5.png\n",
            "5bc7a9b5157f509df0b0bbd1e92edc77.png  ddd51b6c8fa5ac3e12c139c353b6e267.png\n",
            "5beae9ee135e6a8816f30dbf30cb0f30.png  ddecc75f7316532cf37dbf514e045d14.png\n",
            "5c1f2bff736b34629f4169776524b975.png  ddf0148e0b3221a14b5111af386a6cea.png\n",
            "5c30ed0f08031949256a43de30468561.png  de01be4fc73a0d5f35856779882ffa29.png\n",
            "5c3819c887a0d0a8ecd12bf0e4dc8afe.png  de09b1380f07094a29ecb9ee1c0213d0.png\n",
            "5c7909f2981c4c69c6313993a1e14ca2.png  de20af22a29f86723f7d2aa38e38ac46.png\n",
            "5c79f7b5b903e76e5218bc5d9563f228.png  de3d4ff7cfccd572cd09c609fce524f4.png\n",
            "5c96762d79e59b9be26bdca7f9302114.png  de42dab73146be02e94597069f454619.png\n",
            "5cc39666fc1e116eae26e7e4940eaf72.png  de82c3e062071bce6926b4ad67c9719a.png\n",
            "5cdbaaa695031c3b764286588cbc8c64.png  de82ef126f4f157175f9b16befa5a69b.png\n",
            "5d109de8a0445be3e6d9c85a49535091.png  deea69c9031f906a4218fc35f013a7f4.png\n",
            "5d44b95bf60be34656d8263453007c7a.png  dfc6767e83c469e5e7bd98af994b7bd6.png\n",
            "5d4cdf2f3c626cf2e6a2ace7e0c887fa.png  dff979d500f7062cb41baa666b8c46c1.png\n",
            "5d63eed35ec3d4c7d963c4bf0d792645.png  e0116e795c289d376a1303a7acec2018.png\n",
            "5d7d35dba522f5d55ff4aeffa9bf5d0f.png  e01c5b306e5a2629e4f1d2d7d353a69b.png\n",
            "5d854ab569d41b3e0864b5c9d64197d6.png  e05455f1c35cf5f72d54463a3d01e2ca.png\n",
            "5dd140d4bf413f80475a901971c050f7.png  e07463b345ad6b63b2f706585e39982f.png\n",
            "5de4ef9187a0687d37d26bb4dc3ecbdd.png  e0a063f94ed559ec6d9e6e9ff2fefb48.png\n",
            "5e0e97c19da8b83e422b5c29f9974fd9.png  e0ffe2f53cc94de673a9faca4c9bb1dc.png\n",
            "5e15c5bc36fe5b77ab6b955ebe64bd8e.png  e1168c52675b3f61a864263b553ae511.png\n",
            "5e1ea4c53a95c7015902d0a26295d57e.png  e11ec622023785c22299c8d34150537f.png\n",
            "5e2c412fb1de6a4ace356d298237eb59.png  e1274eaf802cbc89cf8fd28a2a354348.png\n",
            "5e8b2ed3ed1515ea57e21a27a90c6f27.png  e172c3a50d9362c6317b09c67e039f1c.png\n",
            "5eb63168544711a10d2315d0e7c22adb.png  e178be00887ec8aa4d5b3e777edc4264.png\n",
            "5eb7f7407dd087e896a58910eb081ee8.png  e1d8d2ded668bd407e4ce6858c96a4c8.png\n",
            "5ec903f95d5ed2137371589271235330.png  e1e9286abcc213c40d7a278dbbbc9620.png\n",
            "5ed2d285db506e868b08440731b5e12c.png  e1feab989ef2fad60c8c68e6ccb3400e.png\n",
            "5ed422606b31c2d109d9848e1333169a.png  e218d75275c27de59753ebf7813339cf.png\n",
            "5ed9cb11a051c689f0182b9ef26276e7.png  e26c0dc8eed8c7fda925806e8b73c335.png\n",
            "5f030e29101fe3efed3fb2bde74b1467.png  e26f7d53a9462cf08b258c7efdbf9104.png\n",
            "5f98a23de58c191e8d162c7bb9ba0708.png  e27f36551bf9a934d8b5b752c1b3071f.png\n",
            "5fd568f022ee81ec5769bfbde2d4b618.png  e2923b509586f9dece0f4ee629145b22.png\n",
            "5fde9a852a36faa5e2fe4ff312c3fb41.png  e293d3b51d479c36eb3349b1bdd9d3c8.png\n",
            "602026de964d86d5fbcb9faf0e2bd723.png  e296870d61b28976445cd4d16d49d8fc.png\n",
            "6031862763c734dc727cdd9b8f39e048.png  e2cf29236b0ea1dd886475510067e396.png\n",
            "6032367e41863f46d2be87a3d3d4ec78.png  e2e8fbc75edfc4648bd033898806fbf1.png\n",
            "603ac8fb08e40e238f921361724a3d85.png  e317fb169ae53e230c3641af2b770f66.png\n",
            "6044f1cdace89f3c8c7d8d6ad3db836b.png  e33099599963129c158c6e89f17a2e20.png\n",
            "604ea1d3be4cba732fe0bcf6ceed22ec.png  e34c0a31c917cdf26b1d0701eac879eb.png\n",
            "605a23e8b5b859dca33a63d61ff3d5a2.png  e3645f91d7aad251cec94c7d4a9ce154.png\n",
            "60802ee1b77351674010c40514d7c936.png  e389c0ea59f135c5309f792efc4c7ece.png\n",
            "60ab6bf93236500ff8e4737c958ecf8c.png  e3931dfc700e0d9ed575f5d81e378282.png\n",
            "60b2d7656c2676f10bd6065c45fea228.png  e3a0a2540e4527c79aacd4fdd6f3c02a.png\n",
            "60dbde18cf0b82c1988eee14ea6eb7f6.png  e3c36e6049d8e7bd3e8fd9bcff353fa7.png\n",
            "60dc68827a778f2b716585d165fdc121.png  e3d00df31f414c19a05454dea634e8f6.png\n",
            "60debfd9ea64d3262797af1d16766ad5.png  e3da4e1e808a0c79062d205e12e6e93f.png\n",
            "60e94c02975f4fea6e3efacc222afc03.png  e3e9ad5fcb836af957087bed4570d2d3.png\n",
            "60fac047e866113911f82998706b4022.png  e3e9ed05c4aad5faeb337ccf7908b820.png\n",
            "6115a8ad1c7b5a42551c7943911a65e0.png  e3f88c3d1d148daff0281d1aa760c201.png\n",
            "61618d34a0348c9612f467af945fbfd9.png  e40645c5a3fa92452142778e69a5a98b.png\n",
            "61af8c5caa29119aa672a2aa68c96183.png  e43b2d560bf2e54c0bae952f4409ee3e.png\n",
            "61da978bd87d15ac17d012b9375972db.png  e47aea6cfc4c7ad007f36773604df7ef.png\n",
            "61db30ba7e79de3d2c24b5eda791b2e4.png  e49dc71a1f6d56490fe3ee76e82c9b76.png\n",
            "61e3d61ef4e8598d3929a90bca5b194a.png  e4adf58d1327520a73cd54204e02ac3c.png\n",
            "626df06f81f0d0f21d86c8a70c7da997.png  e4c770baf76d0fc93647865d9771bb53.png\n",
            "6271d88f61d1d95e50ff91b136a42170.png  e5202b814bd64ffb2c43f55a79a5fba0.png\n",
            "627a6e58350f73f9d3073da05bb09a0b.png  e5422e723cef93e17e6e7ceabc25e2e8.png\n",
            "628655f51bcb734adf3ca4de33ae4554.png  e5b87061c41d0c58634e1495284326f4.png\n",
            "6298f98e7118f059116d147ab8f04257.png  e5e71d8c43af4949f69c9731c918cdcf.png\n",
            "629b19e7f6d2dd9f106800b536987042.png  e5ff189415a6291112f49135b27b3882.png\n",
            "62d963b68f71487f8d2223de5f1ee901.png  e5ff220a0bdaf38706e6f004d7d1fab1.png\n",
            "630451c52c9c3839d9013b3420018ad5.png  e629fb77865195bad374a04dd449db05.png\n",
            "630eca0ae2d03b77715532172b805844.png  e63ed667862bb6a71dd74f757a36d610.png\n",
            "632df55966c6dc3db4cc906c34cbcd21.png  e6985dd7f60eb3d2f41c56f9186c7ddd.png\n",
            "6343bae0425eed179a811fbd7e5c9a8b.png  e69ac254d0a2360ed5fa1c14d8a19a81.png\n",
            "635085b93a573507129bf0d9600d539c.png  e6b58934b6af520cfbac71a51e771de0.png\n",
            "637ca820cd14415fda6a9bd2834ed4a9.png  e6c91b78bfdfd41616dc0f76ecc0f857.png\n",
            "637e542325414b5679a630567158d591.png  e6ef6e9ba0e5b26697932a7e91983f08.png\n",
            "63a8e4dcf3d134b36e25c0b6ac3444a1.png  e6f5df94f9af126ddf253fe50ceacef8.png\n",
            "63aeace1e669d4dc4170fe291499ecb9.png  e7016934ec3262c155466474b30d7a85.png\n",
            "63bae1882fd0981905ce7adb238f236d.png  e70c21e3d2cd518ae1946065e229f571.png\n",
            "63ca25f8a3b081ac11b0c567e8f74420.png  e756efee2ef630e13585885b6283a42a.png\n",
            "63ece5aa047682dbfcdd8d5405963742.png  e78b6218df36930bf9d4816ca49afe97.png\n",
            "640781be8c5b118cfebe5ba4e8459bb2.png  e7950551a8ba0f3553ba4a7401c090cf.png\n",
            "643348ec5585e1d3ede5b2c74a5bf5b5.png  e7979232fcc8ba2e8a1ab2bc3a0c1828.png\n",
            "64670f4fb74bc52707fb8a783445df55.png  e7de3ca13103ee914353e1431f3ef67d.png\n",
            "646f6575bd0aa142da8be3b514b06b5e.png  e7e9b9d4adc70c22570451086ae82985.png\n",
            "6496172fe1438677c40e06b0faef81cc.png  e7f9d30bf60f6494f0c3400123c4443c.png\n",
            "64b9702969940f5e95b63e978b224b3a.png  e8263c44a7787cfebd5b2b6a85b87c91.png\n",
            "64ba963e254782da1c1a4c32f42f3c24.png  e830d3f72d470711c43bc55ccb5bebdb.png\n",
            "64ea6d15f29f976fdd57be0afce67091.png  e841e934d6cbc63f71ad102375fb0864.png\n",
            "65260720c4de6e72120b7c417030d1f5.png  e84c65aed3c1705c0dd7fad668e2c350.png\n",
            "653698e814d090726829bb3e29265e61.png  e875ecb3a4403681afa684d939952b54.png\n",
            "6549bce606d5d32defd97317eb9398c9.png  e886ee3262ba0032ed74e52803f9c103.png\n",
            "6573590862e31749389b8c920c8548df.png  e894013d9d2ef4886444ff952e5a87bf.png\n",
            "65c1c2a2bb2a01159b80d287eb4dca5b.png  e89b9d0e8dd9494f18c36c92c52d3945.png\n",
            "65cfddc357da2b8dea7d0f3c7f91984a.png  e8a816f973e034dbb56984990a0184ec.png\n",
            "65d02fdf85596d01ecffa72f4ce96058.png  e8ffe6359994c207e5167f53b7b20518.png\n",
            "65f79f6ac2cb68ee909de9757dbea04e.png  e9124117f749236a7146daa69be20d13.png\n",
            "662b7daf651d3953251f4bdf391fd378.png  e93f9c73642a7d3afb3b32bc6da23795.png\n",
            "66458b36d80dca021bcca6d84e5b9a7c.png  e967bb3b2b0953dade20524e604197d7.png\n",
            "6656993ba8ebb648ec3ce21d5e3a550a.png  e9a1f76b89858aa117778e50639ca1f5.png\n",
            "669d448a79e1bca1d072e2529b6591df.png  e9c07e5b4826961f72e331acdb40b449.png\n",
            "669d8d9dba2d988f51c2f55d24405fd5.png  e9ccab601b181597346fc3c3b7b01c62.png\n",
            "66bf8ebec740383d815191415724be7c.png  e9f57aea9c626afa44d9c459b45bbf08.png\n",
            "66ed9a11eff94ea3ae80f2faf83729d8.png  ea092e2e33f0bb84e9980fbe188e7923.png\n",
            "6702090c4df6eeccda77cc284f51afaf.png  ea265177a5d6569a4b3e5fcb20016d42.png\n",
            "671a356ad0b8b0f7a02f101c09b8ecde.png  ea385f06c9011572d30058043ff30372.png\n",
            "672250586c460d5dc383d27d0594df76.png  ea65d47d0293e99613da1fbdc74ac40d.png\n",
            "6723e22e651de8bc30b12ae9d1576ee7.png  ea702923cf4a2ce5f07954f95657b5da.png\n",
            "6738500429da9cb66216f1757b0434b1.png  ea7433a8c8084bc6e500073187bbbe3d.png\n",
            "677c10abe7f451ce8254848cef46ab2c.png  eb1ce0aed0632a15716db4f79da704db.png\n",
            "67875f0f0d4ef14bef1b5f144ba2dfef.png  ebdd7ff85dae6ac47ccf91d4886c2c5a.png\n",
            "67cbd96420cf57f0cf5757ab13bef40b.png  ebe5337c95df9f805a7639a268368406.png\n",
            "68787aeb8a8d9cc804ad6d59847f2493.png  ec23cf37b421ded44c8ef4a3c5b55dde.png\n",
            "68b0da463b571ff9589d692a0e6bc605.png  ec365b00a83dcda40919c2cfc9314923.png\n",
            "68c4e3453dcd8fae40358c513cb5a26f.png  ec5a0e9e304255fae1f1f2ea5df649a7.png\n",
            "68d3015e79f21c031bcd0dcf8b74fdfd.png  ec5d8f15e382525e7e860664ba3c6fef.png\n",
            "68f4baf6e116a717e5d85b3eabba4a71.png  ec857c169385883faa24c2654f4fd85c.png\n",
            "6917a94d94f5d7cf8ab7880f6b4a99fc.png  ec885e6beee0df6b8ddba27d75e4f962.png\n",
            "693d91427113d3743b477d8c81c1c448.png  ec8e537c49492b01460a8ab44f7699bf.png\n",
            "693ea42a6960582e8be1fc46dc944bd9.png  eca9d3c86171ae79bf2bd8d99cb4233b.png\n",
            "695916c055c2a35f595606b76d26ea1f.png  ecae76e65e1459f96d7f3280418cd5bd.png\n",
            "6966cd429acfae96754dd80389c3bd10.png  ecb070efa247c8d3343e60b5dfb6b9de.png\n",
            "69acc9ee30692efc5ab25a9e17a359a4.png  ecc4bddac6ca94dc30520e8c2525635e.png\n",
            "69c2cd983e8fc08cddfe131038d7ad4e.png  eced229f125dd6aa581385742be4bbda.png\n",
            "6a09390100b6824c7c460198a0b0f5cd.png  ecf8e896a5c0f29125e342efd25b9204.png\n",
            "6a10d264ba3c1b34ff4aee957ac0292a.png  ed04c89e3b8f2de3e2b6f64759bf38a4.png\n",
            "6a1a5a45b324683074713b51db8709bf.png  ed6d31aa334bf00cadae6d4e956552d1.png\n",
            "6a1abfce25e7e4512b0b44677fb1ae58.png  ed84bc517e6ee2c8602371dc5906c167.png\n",
            "6a2e5bbde32b1f094400b804042d888a.png  ed89ab1afad03db33727b2d389860c23.png\n",
            "6a4838ae746d187762591fab222c2ead.png  ed9d985e0fc4e64055e37bbaae8aac13.png\n",
            "6a713b7d46cf723107b542d9fc36dd85.png  edb58237b4467793907e2832ce804594.png\n",
            "6afa525ece6317777ddb8a14c193538c.png  ee18e0acc6cfd391f8e066dcacfc82aa.png\n",
            "6afcc3ae42db36048d3d1c85b9ceb705.png  ee4eb5a67e81f4008b756d7568961b91.png\n",
            "6b1d0515456358d1540c88c0a9d8c19d.png  ee76d682f8344fdb7a9f2f9c0d54a093.png\n",
            "6b4c09eaf005ffeb84c51bce11aed380.png  eea30b6b2fe08ff014206dedac124961.png\n",
            "6b521b257452e0d4e78a72e4283e5982.png  eea96296b925c3bd961f90ea58f2eff2.png\n",
            "6b5c32f3aa5f8be36881d8d5cd4ce799.png  eeb108bcfa49987d3a18a069975ef225.png\n",
            "6b7acbee6eaef0068508eb3ba9eb6b58.png  eec4ce01ace97a434b74abd13d5ed447.png\n",
            "6b88594ba15dbab2196ce43c1b588bfc.png  eed293a8c08becb2b4a31ff123a1ced8.png\n",
            "6ba664b3a508741cf7722acc0c72bcd0.png  ef29407cb4ef5b647fb530254075b498.png\n",
            "6bc31400312ca89db782867b324b947c.png  ef30fb45c755390c59e759ba00e717ea.png\n",
            "6bf393be5e4115f906a10ea61b6dc8f4.png  ef3ca815e94d2b8522c84bcd948ff879.png\n",
            "6c1908d9d6cbb7aa235cbab826521bfd.png  ef51a3493cdc34e132f136861b52ba24.png\n",
            "6c75d91b8f4eeb8d5ffe3c2ca8645548.png  ef673005982b42217b6068676b123030.png\n",
            "6c8518ff43b34f651d7436c169fb7a61.png  ef8b2ec5d2fdcf20fc39e55a0c36bfb2.png\n",
            "6c87aef6e367b2d697337e6394af2ea7.png  f00e0ebfd073aa53c2772dcd76792a87.png\n",
            "6c8ceb42b5b05adf36e60f8d68c3a7d8.png  f0156845a630b505492cf13eea051526.png\n",
            "6d059e9e0c0dda256928d6fa324fc94f.png  f01ceace1a3ad42eca2e1a8b315899d7.png\n",
            "6d0e29d2a9bbd4a8ce912aaa4866fc5a.png  f02d5369157538f2fb005b1fd6aaca40.png\n",
            "6d30a7a79bdcab683f93c44a5616de57.png  f05974023f7ebe4bc4eab23ef1962ddb.png\n",
            "6d32adde40c0f587f7714de7497ca51f.png  f073eeaf965ef6b33a6a5e21a4c3f3e3.png\n",
            "6d3e8de80e13896576df9fdf38cd8e06.png  f08d4be606deb5c69760ec6cad689114.png\n",
            "6d651d07a12df6b7e68211f212cf0b4e.png  f10a15b35da5d89eba770482e3e7ecf0.png\n",
            "6d8b2a49a7c962e0cd6ef0d3bf2895da.png  f11ff5ac5a02c45ca89864e818639622.png\n",
            "6da79bfd4773921bcbca46251c077659.png  f1213e4ed39861eef5d642bc82bb1ba2.png\n",
            "6dd74e5964957e5ce7cd1c42b46622bc.png  f127c89d28900a302016927791bc2fac.png\n",
            "6df8ec5d3097955374a2ccbe321ab24b.png  f13d1891aec711d53ecb8ccc529a5af5.png\n",
            "6e077338b9b7951995f27ea4c6620244.png  f158f4330a7743735cda8a78566d66d7.png\n",
            "6e7f91672bbfa10390348cd89f4860a0.png  f1780208d86e3059822019203eccd909.png\n",
            "6eb678556b90a9344e78e110bfbe974b.png  f17faff882b6ed802ecd764fccd5c367.png\n",
            "6ebeb524fe07d10e462f4e24f44144f8.png  f195f2b76103e850a96e830a51b175db.png\n",
            "6ef09ec8907f5f4fa2356c2693c25ae4.png  f1b5b361cd6b1a988147a1dc77bf0d77.png\n",
            "6efa21e7ddd68e8806b22026879f475b.png  f1d707da455ef5b08d0c0f0a674ce568.png\n",
            "6f01d533beff8ac0a473bfb78d338bda.png  f1de64c0dec5a5e951aa45364bf71856.png\n",
            "6f0b429ba99c33f83603b4eaf229098f.png  f1eef1c6b62a5e415bfd6d40eff15d54.png\n",
            "6f505e5de8ff4d7f275a88463d4ca3ba.png  f22efd9b08955840387cc16f952719ca.png\n",
            "6f792e3c59fba78f380ae28bda3d4b25.png  f24040b8b9f98bea3c3a809fee49b5f5.png\n",
            "6f91d5c96aeb7671ff8f7dd8d9db3a2a.png  f253bc648a3b180487a20f5968e6d7c8.png\n",
            "6fa6acfe1d4c059d1fa2d3e704e34bc0.png  f281129896ac4a332e58dbcc9555fd6d.png\n",
            "6fdb70aca2091e65bc8cb8784c3f62c0.png  f2b3e019c78e7b7f512d32d37a1184af.png\n",
            "6ffb30465122c21b59e0f11c3f51f663.png  f2e98f56da835ef924ee585f9170ecc4.png\n",
            "70106975c3eeb7079d3efce71f462346.png  f2e9da7234a49d17e281bb09fb958355.png\n",
            "70198804b9dfc853668e4dd5eed2877e.png  f31a899c573eb3aa9914a6fbdb7a2230.png\n",
            "7023ead55b9061a11e10dbbc18b2c137.png  f32bb79262aa206d557923b1e3162538.png\n",
            "70552cf43712d9bece67129a26d1454e.png  f32cd6f0d3ae4e45f5b9282e0d1f6463.png\n",
            "7081ee3056fd975569e12279d6bb6162.png  f35d0ffb51185452b870beb490f8bfcd.png\n",
            "708856b69d68f515ee95c4cddaeebd2f.png  f36be3e51a2677c0910af6146ee20a26.png\n",
            "709bd7561fd2a4d36246c27393f7d2f9.png  f399847971ea1fa7fddfcf6c5f6251ef.png\n",
            "70a3ed2a8c35b4ab128ed892edb20233.png  f3f612d37446bc54efb5a16415b78de7.png\n",
            "70c34d92412c0d284103f4d891c45131.png  f401a350a90d46dcc98df9b1866a6b7b.png\n",
            "70d656dfeaa1490dddcd2fdd84e28d61.png  f40af40a94d283ca1d7b0965ff19b86d.png\n",
            "712700f91157a4396413a69820ee95d8.png  f42ffe62fa38ae224906617a9df416e3.png\n",
            "71afff0c878448363c9cffd3bc94bde4.png  f448a73c4953ed4e3ecc7738803e171c.png\n",
            "71cb3a626e0454449f949a3c33f77328.png  f44b9c8e1a7a4b8cf461b230a907e29e.png\n",
            "71dcb22577b03b5e006d703a958a7c51.png  f467b304a20dff11b364a4132da1a9ed.png\n",
            "71e6c7ffa7c354c37fafcb93eb5ad142.png  f471dad7c6ac14336ad61c9960012ac6.png\n",
            "71e8c111e83374e8816ca9238d897957.png  f493f1932af7ce7a074e8c6efbeb7734.png\n",
            "720896571c415a4396dde0c97399cd04.png  f4bf8dc0da512bfca9e5da0659c6a73d.png\n",
            "724b429ee98951ab327600fd4e09ddbc.png  f4eabf3c90bae6576a2402d8e944aaf9.png\n",
            "725d7cd2b5084150e2874c2ca6e69b06.png  f4eb05d5ce76e0a64d881e843bf24538.png\n",
            "72dc61ebb1a224ecd57843717eaa4acf.png  f502fdb56f02f794718d6eb2a66cfbd2.png\n",
            "72ef164976c4b06367d0a199104fc398.png  f52fdb10c5bc7f9d11f6d4e2d4c8610c.png\n",
            "72fc27e795d29e4ccca5923b1d765c16.png  f541dd32d3fe9a85043181ba64339b25.png\n",
            "72ff1e5c7213cff14896e71ba70b29d8.png  f561af20aecdc2f4dfba6631fa5971ec.png\n",
            "731e7aaa0de64938d7a3e45ca6ebc3fa.png  f565c563efcc8b2da8867ecfa04dba56.png\n",
            "7358aff09aa444484dc797d5bd6c2fe2.png  f59d51569596f82474447f98cc9af03f.png\n",
            "73c1d08a89493f98081c13e672d1e3ec.png  f5ab3afc89aa79544d5e81e3a172b8d9.png\n",
            "73c415860ed4a00cfc2f1656c2304840.png  f5c1fef724780752d6735bbfe7fdd184.png\n",
            "73db76e263599b2601d126a20774c9ae.png  f5ddd046c0600cf17c490887f13bbd98.png\n",
            "73dc14844f622095089a68750589be77.png  f6121745cd4fe66b328a382753b6fb90.png\n",
            "741a7e66bbca37b619d905dadf6e17b8.png  f63dd9a1423ba628ea7e8bb2c7d4a0ae.png\n",
            "74266f6b8f2c5cab7759e1fe1a13e71f.png  f646a7ff10a15094bf864eb5413e5ae3.png\n",
            "742942faf7cce6a2973f257a56ad033f.png  f64932ae001bce38a476587dc60d3d0f.png\n",
            "74448f139627273161308c3ebf82b685.png  f6592326222593725e824919ad6e61a3.png\n",
            "7448e49d04ca11aa5825d9a2ce71c523.png  f669ae7b6eb9a3d02c46401e059c5d83.png\n",
            "748f9483b5db2108056c379a7702f765.png  f685cc3cab2ed8cbb24fa656e2a2f006.png\n",
            "748fba7f46b9c3a8fde4f6a58a74b3fe.png  f68ee0285d8093447028f08b89c3dfff.png\n",
            "74af3cd9db836c62f50c45a713b29e6d.png  f6d110c2aba95ac1f767f10e9fe20988.png\n",
            "752b5b1d6895c6c154b815206e26f141.png  f6d4212d54a6043ecf725f61f4971782.png\n",
            "759fd7cbc5553b012c5877550a4cafa3.png  f6d7aa19de7ea62ffc3fa920c722e0b2.png\n",
            "75a224597c6521524541d824dd42c3f4.png  f6e71e305f4ded870294ca7a06af20c5.png\n",
            "75a934c51c0a41afaf65b470adc9e0e5.png  f6ee044934e045dca6196b753bf00511.png\n",
            "75ccdd5469eaedb54d013595a8b18955.png  f6ee7addc68b126193df6e202375aa5d.png\n",
            "75e5bae04428bc12ad08b1ead0ddf414.png  f70319ce2b2d7bb152f00410a236cfad.png\n",
            "75ec21ab949eb2896dd18599c5433d0d.png  f72366cf9adc2ac20676d30db9756630.png\n",
            "763090c54909fa01a6a40edee624bfce.png  f73c14a59d549fffd5c9efda091808ad.png\n",
            "7643ef0d5e5d5ba5ecf781da5f99e81e.png  f7548b575f2f79582f0e26a87d5a46d0.png\n",
            "764ccf1c28be9d8aaf78ac2873168eab.png  f7b13a03fdb86ec78cc6a1246f87dfc2.png\n",
            "7661be3cb5b1248b784bbb8d9aacc77e.png  f7ba6a84c865c5c83beac3527f6447e1.png\n",
            "766502aee21ca173f4dc9ae9725074bd.png  f7f44d19e593b03b9eb8b6e0328ae31d.png\n",
            "768563819d23baa2519bbe43afbcc21e.png  f8332469a7760b9627f19d90b6706075.png\n",
            "76b611ded772b7da5ea2ab096d83b127.png  f84e4b50cb404e3816865a5e09a79417.png\n",
            "773c73475ff71498380347ce20744e92.png  f86f53a682d699cef83c49f2c424cd94.png\n",
            "774744808b568c44601f19ad0e5d235a.png  f875bcf7a64ac5ed8534058144729be6.png\n",
            "778d581c533b4d9eb0c0e2baa2e74a8d.png  f87608fe1415a1757b9acd244e147e5a.png\n",
            "77b46bab475649ba8868e1f941de2d1d.png  f87c94f34e1397e9f926ebe8bda09f9d.png\n",
            "77c58f0f17adb6a18132072fd94b1329.png  f8e0bb7d4bed58f6bb37150553621575.png\n",
            "77dda22fcad14fffacb18cdacc80e89c.png  f91c3a9a253aff16c0398502aa9e58d1.png\n",
            "77f827a9bcf9999b50dedbbbf5e10636.png  f935a4560f42ee3d5ceeccf9d7d457c5.png\n",
            "77ff1d0810a0bfbc58d3ba0bf0b5f4e6.png  f9500588cef7cb4bb802b0c6ebe300ed.png\n",
            "782c48afdbfbfbf25e321c613c5b344d.png  f99e17e62c31949999eac2d5ca8087aa.png\n",
            "7869e82f8c9d25eecc15856731a79a11.png  f9ae38611ac3d48d7235708eb7c80331.png\n",
            "787a608bb652b3dee46b22640b521d2b.png  fa0fef041ff22a90c1fee64cfe78afdf.png\n",
            "7882aab7d399af4639d8bc1cdb65f122.png  fa149ea180fcc254931e6f76f147b855.png\n",
            "7888fbafbd62c4342c8b2fd99de271fe.png  fa35978ac66cf5284c14cb50e208aa8b.png\n",
            "78906528912a71db9d00be3537175ff2.png  fa371823bb82e03ce4197018ab193399.png\n",
            "78a8f2fe092c23fad596eb4612876398.png  fa41f4d570959ea8d329fc92c6199bd7.png\n",
            "78cf0152cc5cef0b5536f0c3dc7ab9f1.png  fa50805273aa8a5fe24e53449aa8472d.png\n",
            "78d21f11640446f5f48fb7f5c4400f49.png  fa60eb5e21c77a14e75c0ad6d5172af4.png\n",
            "78dab983830a54997c63dccde04da9fd.png  fa8a450973387d1b57fe681e8d7715c6.png\n",
            "7901dbb492ae8a476364f46034d0dc76.png  fa9ddd956d2550e6cd4f0ef974aba25a.png\n",
            "79128a7ee07a9a86985ec28531bd20e7.png  fac1919b9e4fb0eeb6b5540917eb6d23.png\n",
            "7928d3ef524a02387dd8492eb260e1fc.png  facd0592496f3a8b6db5fae74e252717.png\n",
            "7989472bacae7f972d15e79abc0d7db7.png  fb053bc6eaf2c880d784cd581c5cb059.png\n",
            "79a099d80c70cfc7ebeec98a486a3ac5.png  fb7ababd17a9b151bc3470a48e5e703b.png\n",
            "79bb50c1435a867603c12faa603e59f1.png  fb8d4d16786cc27e6af591bd29dfb293.png\n",
            "79eb86e64dfdff3b9f4be69fc5866fff.png  fc4717b56464f40e667230b1547f73de.png\n",
            "7a0d41d0e925f63a4f5dca97a23e7fe6.png  fc7e5120cccc6f67491e83deed47b084.png\n",
            "7a38f25a179f0753b7a37c3731f6e5dc.png  fc8f18e639f2f4375d0a93167327e11f.png\n",
            "7a74d6b0c1fd1032e63e24a24d0a9eac.png  fcb28d75bc1e7724e432979ea53c0933.png\n",
            "7a8fc44bb07b179db6707e82d0ce20d1.png  fcfc6ca121284ed6e12dc690c3087fd0.png\n",
            "7aada51429f67309805c69ffb4eb3f48.png  fd0dd02298d7f034fd10b8b6483e0909.png\n",
            "7ab7faf9780ca2c1d77d64e32ddb4efa.png  fd373aada325e258b5f31f0f2bcd5825.png\n",
            "7abd869b4587974d38a1765a08adbb9d.png  fd4cd42257142985e7d8b6970d194e08.png\n",
            "7abdaeb3d34e9477a7a00b43604945f2.png  fd62df0da8bfd2359dbd4dd16dc4d96b.png\n",
            "7ad60b9b71d98377a2a061b1bd84eff3.png  fd9128559fe5219dcc7def01441e3197.png\n",
            "7ae7e748986af4c60494fa58a230293c.png  fd952558faa69afd31b470c91d7b1048.png\n",
            "7b2750f9da30761239b419381a49a954.png  fd954338754247df092ab8db10e6e1e8.png\n",
            "7b2873afcdcb1d150db86ce426ba2c32.png  fd99294c9b1b9304b139dd2e0318df35.png\n",
            "7b622c387a3208db84e6251ff870736f.png  fdad745b12816a1caff41dbf1834b12a.png\n",
            "7b7e23e7e187264aaf565848c7c70577.png  fdd5fce7af5b976d9bd94bc928fa120a.png\n",
            "7b9e38e6969df2fd0fe51f4f0ae5ecae.png  fde96c080a81d12cae40ae861860c836.png\n",
            "7bcc89090fbe8e3f0e11cd5516c19ed3.png  fe1418cb78a266992d5af246fed5163b.png\n",
            "7bd6196558fe39074fa9e4b6d4cc9626.png  fe2f764176f89670a97d5305a31dd973.png\n",
            "7bf8dac723857cb4c949fe1119ad9043.png  fe61d99a6dcff178b8c913d4c51883b8.png\n",
            "7bfa7f195274e1789cd27885b3800e26.png  fe65d4850ab4ae015363d8720e9e46bb.png\n",
            "7c1a3bd7abcee5c0182642c8f199d065.png  fe66744160af98465445a0e19a54a1a1.png\n",
            "7c54394a44f478aebb1afc4c5c4ab04e.png  fead266469633a9732f690c9ff81b4c1.png\n",
            "7c7718260bbdbc4f18a6e450d0c6e9f2.png  feb3901e32e3d7703fc945f13bb99379.png\n",
            "7c7ba6c85c21019085ea24a76d0ce2f3.png  fec926df845b093417e196df9e4c1516.png\n",
            "7cb1905eb5bae2b76452458437e5b620.png  fef017b1ad316b27649c077c4ded751a.png\n",
            "7ccc3760b1485e48d20688093baf85df.png  ff2569a980c0a3083a3c8b9e32905a2c.png\n",
            "7cf814181f2e53afdcf03a152ef67bab.png  ff427f64012ea6f31c1cf2e95052caff.png\n",
            "7cfaa98a4509743cdfc8c76849475f32.png  ff48fbb929766be3861403d84f432d2e.png\n",
            "7d077baaa64cfcaf1cb46ef888abe5ee.png  ff6274390e21f88e51437a47f46c32d2.png\n",
            "7d0cda6b47f054f668781deaa3dfe18c.png  ff6635cd800b9828de1abd2a6c0b382f.png\n",
            "7d2988b035bead9140ec959bb6432909.png  ff663f7f33e58286b613c163030b40cc.png\n",
            "7d571c1063adfdd3cd5c1c17d8178417.png  ff77ca1a4f98c8c9ed94ad0b4333db06.png\n",
            "7d5c1ef44a7ec85d51abe9729eac0cbf.png  ffc0c5f9b7a251f04019b4a3a31619e1.png\n",
            "7d749e7ca42cf0c564df94733952fc48.png  ffe3a511e0853f9fd66f2a418dd875bd.png\n",
            "7db8e51dbf466f78fa40908be1d4c880.png\n"
          ]
        }
      ]
    },
    {
      "cell_type": "code",
      "metadata": {
        "id": "Anm9DkOccyMZ",
        "outputId": "5e78ebfa-b9ae-46e6-8db6-d17fa54cdd5d",
        "colab": {
          "base_uri": "https://localhost:8080/"
        }
      },
      "source": [
        "cd .."
      ],
      "execution_count": 53,
      "outputs": [
        {
          "output_type": "stream",
          "name": "stdout",
          "text": [
            "/content/stylegan2-ada-pytorch/datasets\n"
          ]
        }
      ]
    },
    {
      "cell_type": "code",
      "metadata": {
        "id": "CsBFXqK1NPGl"
      },
      "source": [
        "!rm pokemon256.zip"
      ],
      "execution_count": null,
      "outputs": []
    },
    {
      "cell_type": "code",
      "metadata": {
        "id": "WBg2Zy06dkqz",
        "outputId": "1eeed8de-0f4f-479f-e604-40a3990142ff",
        "colab": {
          "base_uri": "https://localhost:8080/"
        }
      },
      "source": [
        "cd /content/stylegan2-ada-pytorch/"
      ],
      "execution_count": 54,
      "outputs": [
        {
          "output_type": "stream",
          "name": "stdout",
          "text": [
            "/content/stylegan2-ada-pytorch\n"
          ]
        }
      ]
    },
    {
      "cell_type": "markdown",
      "metadata": {
        "id": "nQfprRHj_-gH"
      },
      "source": [
        "## Prepare Pokemon dataset for use by StyleGAN"
      ]
    },
    {
      "cell_type": "code",
      "metadata": {
        "id": "_szXOaO0WI00",
        "outputId": "df0100c3-f161-4e55-ecb6-0f76a6e909b2",
        "colab": {
          "base_uri": "https://localhost:8080/"
        }
      },
      "source": [
        "!python dataset_tool.py --source=./datasets/custom --dest=./datasets/custom.zip"
      ],
      "execution_count": 55,
      "outputs": [
        {
          "output_type": "stream",
          "name": "stdout",
          "text": [
            "100% 2011/2011 [00:08<00:00, 225.42it/s]\n"
          ]
        }
      ]
    },
    {
      "cell_type": "markdown",
      "metadata": {
        "id": "QTo4K3m8AEzh"
      },
      "source": [
        "## Create Folders on Your Google Drive\n",
        "\n",
        "If we accidentally close our browser or the Colab runtime disconnects, we will lose all of our training models and progress images.  Therefore we want to store the training data on our Google Drive.  The following cells will create a new folder on your Google Drive, **MachineLearningForArtists**.  The Pokemon training data will be stored in **MachineLearningForArtists/Pokemon**"
      ]
    },
    {
      "cell_type": "code",
      "metadata": {
        "id": "MexWxMvLHP5O"
      },
      "source": [
        "mkdir /content/drive/MyDrive/MachineLearningForArtists"
      ],
      "execution_count": null,
      "outputs": []
    },
    {
      "cell_type": "code",
      "metadata": {
        "id": "Tja3AaYIHU9v"
      },
      "source": [
        "mkdir /content/drive/MyDrive/MachineLearningForArtists/Pokemon"
      ],
      "execution_count": null,
      "outputs": []
    },
    {
      "cell_type": "markdown",
      "metadata": {
        "id": "OS14PMAY6SUW"
      },
      "source": [
        "If you get an error \"cannot create directory\", it's probably because the folder already exists on your Google Drive and you can ignore the error."
      ]
    },
    {
      "cell_type": "markdown",
      "metadata": {
        "id": "HpR6A_qBAo8m"
      },
      "source": [
        "## Train from Scratch\n",
        "\n",
        "This cell block will train StyleGAN from scratch.  Training from scratch is much slower than using *transfer learning* on a previously trained model.  However, the purpose of this tutorial is to a) try training for the first time and b) notice how the progress images develop over time."
      ]
    },
    {
      "cell_type": "code",
      "metadata": {
        "id": "NuSkETl1V8pv"
      },
      "source": [
        "!python train.py --outdir=/content/drive/MyDrive/MachineLearningForArtists/Pokemon --data=./datasets/pokemondataset.zip --gpus=1 --augpipe=bg --gamma=10 --cfg=paper256 --mirror=1 --snap=10 --metrics=none\n"
      ],
      "execution_count": null,
      "outputs": []
    },
    {
      "cell_type": "markdown",
      "metadata": {
        "id": "NQVRH5rr4dki"
      },
      "source": [
        "## Wait an Hour or Two\n",
        "\n",
        "Normal training of a dataset can take days.  For this demonstration, we only want to train for a few hours in order to get familiar with the training process and see the initial results.\n",
        "\n",
        "Results are stored in your Google Drive under drive/MyDrive/MachineLearningForArtists/Pokemon\n",
        "\n",
        "Each training run is stored in a separate directory.  The initial training run is stored in `00000-pokemondataset...`.  If you run training twice, the second run will be stored in `00001-pokemondataset...`.  And so on.\n",
        "\n",
        "Inside the training run directory you will see various files.  `reals.png` shows a sample of the training dataset.  You should see various Pokemon in this image. `fakes000000.png` is a sample of generated images from the initial model.  `network-snapshot-XXXXXX.pkl` is the actual model which can be used later to generate \"fake\" images, videos, etc.\n",
        "\n",
        "As training progresses you will see more `fakes` & `network-snapshot` files created.\n",
        "\n",
        "Since we only want to test a training, once you get to around the 500th iteration, you can stop the above training cell.  Then take a look at the `fakes` images and familiarize yourself with how the training progresses.\n",
        "\n"
      ]
    },
    {
      "cell_type": "markdown",
      "metadata": {
        "id": "RJ-xirKuHKEP"
      },
      "source": [
        "## Transfer Learning\n",
        "\n",
        "Now, let's train the same dataset but use *transfer learning*.  We will use a StyleGAN2 model already pre-trained on Pokemon to train a new model that is trained against a Tamagotchi dataset."
      ]
    },
    {
      "cell_type": "markdown",
      "metadata": {
        "id": "RM9mywxwPy8k"
      },
      "source": [
        "### Get the Tomagotchi dataset"
      ]
    },
    {
      "cell_type": "code",
      "metadata": {
        "id": "Pm3cBBuTO4rC"
      },
      "source": [
        "%cd /content/stylegan2-ada-pytorch/datasets"
      ],
      "execution_count": null,
      "outputs": []
    },
    {
      "cell_type": "code",
      "metadata": {
        "id": "j68IvkgSOqwO"
      },
      "source": [
        "!wget https://github.com/derekphilipau/machinelearningforartists/raw/main/docs/src/week2/Tamagotchi256.zip"
      ],
      "execution_count": null,
      "outputs": []
    },
    {
      "cell_type": "code",
      "metadata": {
        "id": "aCQfcO9mO-3d"
      },
      "source": [
        "!unzip Tamagotchi256.zip"
      ],
      "execution_count": null,
      "outputs": []
    },
    {
      "cell_type": "code",
      "metadata": {
        "id": "4lNNF3pcPCwM"
      },
      "source": [
        "!rm -rf __MACOSX/"
      ],
      "execution_count": null,
      "outputs": []
    },
    {
      "cell_type": "code",
      "metadata": {
        "id": "ZrHIFInOPGi-"
      },
      "source": [
        "%cd /content/stylegan2-ada-pytorch"
      ],
      "execution_count": null,
      "outputs": []
    },
    {
      "cell_type": "markdown",
      "metadata": {
        "id": "8fa3gVmTPuXk"
      },
      "source": [
        "### Prepare Tomagotchi dataset for use by StyleGAN"
      ]
    },
    {
      "cell_type": "code",
      "metadata": {
        "id": "5GvnuNjSPLC5"
      },
      "source": [
        "!python dataset_tool.py --source=./datasets/Tamagotchi256 --dest=./datasets/tamagotchidataset.zip"
      ],
      "execution_count": null,
      "outputs": []
    },
    {
      "cell_type": "markdown",
      "metadata": {
        "id": "3XCXysDmOnqF"
      },
      "source": [
        "### Get the pre-trained Pokemon model"
      ]
    },
    {
      "cell_type": "code",
      "metadata": {
        "id": "YN9c3nyQJWi-",
        "outputId": "7e55f6fb-b263-460d-de18-0e74423f6996",
        "colab": {
          "base_uri": "https://localhost:8080/"
        }
      },
      "source": [
        "!gdown --id 1wFyoYM5pji_H6g-OyvxOTX80L6PkBA4E"
      ],
      "execution_count": 56,
      "outputs": [
        {
          "output_type": "stream",
          "name": "stdout",
          "text": [
            "Access denied with the following error:\n",
            "\n",
            " \tCannot retrieve the public link of the file. You may need to change\n",
            "\tthe permission to 'Anyone with the link', or have had many accesses. \n",
            "\n",
            "You may still be able to access the file from the browser:\n",
            "\n",
            "\t https://drive.google.com/uc?id=1wFyoYM5pji_H6g-OyvxOTX80L6PkBA4E \n",
            "\n"
          ]
        }
      ]
    },
    {
      "cell_type": "markdown",
      "metadata": {
        "id": "bUbn23OUQIS7"
      },
      "source": [
        "### Train using the Pokemon model with the Tamagotchi dataset "
      ]
    },
    {
      "cell_type": "code",
      "metadata": {
        "id": "nIqAPSgaHKEZ"
      },
      "source": [
        "!python train.py --resume=./stylegan2-ada-pytorch-pokemon-256px-11650.pkl --outdir=/content/drive/MyDrive/MachineLearningForArtists/Tamagotchi --data=./datasets/tamagotchidataset.zip --gpus=1 --augpipe=bg --gamma=10 --cfg=paper256 --mirror=1 --snap=10 --metrics=none\n"
      ],
      "execution_count": null,
      "outputs": []
    }
  ]
}